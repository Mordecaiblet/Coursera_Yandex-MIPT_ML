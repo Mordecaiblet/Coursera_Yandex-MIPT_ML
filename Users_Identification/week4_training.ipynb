{
 "cells": [
  {
   "cell_type": "markdown",
   "metadata": {},
   "source": [
    "<center>\n",
    "<img src=\"https://habrastorage.org/web/677/8e1/337/6778e1337c3d4b159d7e99df94227cb2.jpg\"/>\n",
    "## Специализация \"Машинное обучение и анализ данных\"\n",
    "<center>Автор материала: программист-исследователь Mail.Ru Group, старший преподаватель Факультета Компьютерных Наук ВШЭ [Юрий Кашницкий](https://yorko.github.io/)"
   ]
  },
  {
   "cell_type": "markdown",
   "metadata": {},
   "source": [
    "# <center> Capstone проект №1 <br> Идентификация пользователей по посещенным веб-страницам\n",
    "<img src='http://i.istockimg.com/file_thumbview_approve/21546327/5/stock-illustration-21546327-identification-de-l-utilisateur.jpg'>\n",
    "\n",
    "# <center>Неделя 4.  Сравнение алгоритмов классификации\n",
    "\n",
    "Теперь мы наконец подойдем к обучению моделей классификации, сравним на кросс-валидации несколько алгоритмов, разберемся, какие параметры длины сессии (*session_length* и *window_size*) лучше использовать. Также для выбранного алгоритма построим кривые валидации (как качество классификации зависит от одного из гиперпараметров алгоритма) и кривые обучения (как качество классификации зависит от объема выборки).\n",
    "\n",
    "**План 4 недели:**\n",
    "- Часть 1. Сравнение нескольких алгоритмов на сессиях из 10 сайтов\n",
    "- Часть 2. Выбор параметров – длины сессии и ширины окна\n",
    "- Часть 3. Идентификация  конкретного пользователя и кривые обучения\n",
    " \n",
    "\n",
    "\n",
    "**В этой части проекта Вам могут быть полезны видеозаписи следующих лекций курса \"Обучение на размеченных данных\":**\n",
    "   - [Линейная классификация](https://www.coursera.org/learn/supervised-learning/lecture/jqLcO/linieinaia-klassifikatsiia)\n",
    "   - [Сравнение алгоритмов и выбор гиперпараметров](https://www.coursera.org/learn/supervised-learning/lecture/aF79U/sravnieniie-alghoritmov-i-vybor-ghipierparamietrov)\n",
    "   - [Кросс-валидация. Sklearn.cross_validation](https://www.coursera.org/learn/supervised-learning/lecture/XbHEk/kross-validatsiia-sklearn-cross-validation)\n",
    "   - [Линейные модели. Sklearn.linear_model. Классификация](https://www.coursera.org/learn/supervised-learning/lecture/EBg9t/linieinyie-modieli-sklearn-linear-model-klassifikatsiia)\n",
    "   - и многие другие\n"
   ]
  },
  {
   "cell_type": "markdown",
   "metadata": {},
   "source": [
    "### Задание\n",
    "1. Заполните код в этой тетрадке \n",
    "2. Если вы проходите специализацию Яндеса и МФТИ, пошлите файл с ответами в соответствующем Programming Assignment. <br> Если вы проходите курс ODS, выберите ответы в [веб-форме](https://docs.google.com/forms/d/12VB7kmzDoSVzSpQNaJp0tR-2t8K8PynQopP3dypf7i4).  "
   ]
  },
  {
   "cell_type": "code",
   "execution_count": 1,
   "metadata": {},
   "outputs": [],
   "source": [
    "%load_ext watermark"
   ]
  },
  {
   "cell_type": "code",
   "execution_count": 2,
   "metadata": {},
   "outputs": [
    {
     "name": "stdout",
     "output_type": "stream",
     "text": [
      "Python implementation: CPython\n",
      "Python version       : 3.7.4\n",
      "IPython version      : 7.8.0\n",
      "\n",
      "numpy      : 1.19.5\n",
      "scipy      : 1.3.1\n",
      "pandas     : 1.3.2\n",
      "matplotlib : 3.1.1\n",
      "statsmodels: 0.13.0\n",
      "sklearn    : 0.21.3\n",
      "\n",
      "Compiler    : Clang 4.0.1 (tags/RELEASE_401/final)\n",
      "OS          : Darwin\n",
      "Release     : 18.7.0\n",
      "Machine     : x86_64\n",
      "Processor   : i386\n",
      "CPU cores   : 4\n",
      "Architecture: 64bit\n",
      "\n",
      "Git hash: HEAD\n",
      "\n"
     ]
    }
   ],
   "source": [
    "%watermark -v -m -p numpy,scipy,pandas,matplotlib,statsmodels,sklearn -g"
   ]
  },
  {
   "cell_type": "code",
   "execution_count": 3,
   "metadata": {},
   "outputs": [],
   "source": [
    "from __future__ import division, print_function\n",
    "# отключим всякие предупреждения Anaconda\n",
    "import warnings\n",
    "warnings.filterwarnings('ignore')\n",
    "from time import time\n",
    "import itertools\n",
    "import os\n",
    "import numpy as np\n",
    "import pandas as pd\n",
    "import seaborn as sns\n",
    "%matplotlib inline\n",
    "from matplotlib import pyplot as plt\n",
    "import pickle\n",
    "from scipy.sparse import csr_matrix\n",
    "from sklearn.model_selection import train_test_split, cross_val_score, StratifiedKFold, GridSearchCV\n",
    "from sklearn.metrics import accuracy_score, f1_score"
   ]
  },
  {
   "cell_type": "code",
   "execution_count": 4,
   "metadata": {},
   "outputs": [],
   "source": [
    "PATH_TO_DATA = '/Users/zaharsaraev/Documents/Machine_learning_coursera/Final_project/'"
   ]
  },
  {
   "cell_type": "code",
   "execution_count": 5,
   "metadata": {},
   "outputs": [],
   "source": [
    "def write_answer_to_file(answer, file_address):\n",
    "    with open(file_address, 'w') as out_f:\n",
    "        out_f.write(answer)"
   ]
  },
  {
   "cell_type": "markdown",
   "metadata": {},
   "source": [
    "## Часть 1. Сравнение нескольких алгоритмов на сессиях из 10 сайтов"
   ]
  },
  {
   "cell_type": "markdown",
   "metadata": {},
   "source": [
    "**Загрузим сериализованные ранее объекты *X_sparse_10users* и *y_10users*, соответствующие обучающей выборке для 10 пользователей.**"
   ]
  },
  {
   "cell_type": "code",
   "execution_count": 19,
   "metadata": {},
   "outputs": [],
   "source": [
    "with open(os.path.join(PATH_TO_DATA, \n",
    "         'X_sparse_10users.pkl'), 'rb') as X_sparse_10users_pkl:\n",
    "    X_sparse_10users = pickle.load(X_sparse_10users_pkl)\n",
    "with open(os.path.join(PATH_TO_DATA, \n",
    "                       'y_10users.pkl'), 'rb') as y_10users_pkl:\n",
    "    y_10users = pickle.load(y_10users_pkl)"
   ]
  },
  {
   "cell_type": "markdown",
   "metadata": {},
   "source": [
    "**Здесь более 14 тысяч сессий и почти 5 тысяч уникальных посещенных сайтов.**"
   ]
  },
  {
   "cell_type": "code",
   "execution_count": 20,
   "metadata": {},
   "outputs": [
    {
     "data": {
      "text/plain": [
       "(14061, 4913)"
      ]
     },
     "execution_count": 20,
     "metadata": {},
     "output_type": "execute_result"
    }
   ],
   "source": [
    "X_sparse_10users.shape"
   ]
  },
  {
   "cell_type": "markdown",
   "metadata": {},
   "source": [
    "**Разобьем выборку на 2 части. На одной будем проводить кросс-валидацию, на второй – оценивать модель, обученную после кросс-валидации.**"
   ]
  },
  {
   "cell_type": "code",
   "execution_count": 21,
   "metadata": {},
   "outputs": [],
   "source": [
    "X_train, X_valid, y_train, y_valid = train_test_split(X_sparse_10users, y_10users, \n",
    "                                                      test_size=0.3, \n",
    "                                                     random_state=17, stratify=y_10users)"
   ]
  },
  {
   "cell_type": "markdown",
   "metadata": {},
   "source": [
    "**Зададим заранее тип кросс-валидации: 3-кратная, с перемешиванием, параметр random_state=17 – для воспроизводимости.**"
   ]
  },
  {
   "cell_type": "code",
   "execution_count": 24,
   "metadata": {},
   "outputs": [],
   "source": [
    "skf = StratifiedKFold(n_splits=3, shuffle=True, random_state=17)"
   ]
  },
  {
   "cell_type": "markdown",
   "metadata": {},
   "source": [
    "**Вспомогательная функция для отрисовки кривых валидации после запуска GridSearchCV (или RandomizedCV).**"
   ]
  },
  {
   "cell_type": "code",
   "execution_count": 17,
   "metadata": {},
   "outputs": [],
   "source": [
    "def plot_validation_curves(param_values, grid_cv_results_):\n",
    "    train_mu, train_std = grid_cv_results_['mean_train_score'], grid_cv_results_['std_train_score']\n",
    "    valid_mu, valid_std = grid_cv_results_['mean_test_score'], grid_cv_results_['std_test_score']\n",
    "    train_line = plt.plot(param_values, train_mu, '-', label='train', color='green')\n",
    "    valid_line = plt.plot(param_values, valid_mu, '-', label='test', color='red')\n",
    "    plt.fill_between(param_values, train_mu - train_std, train_mu + train_std, edgecolor='none',\n",
    "                    facecolor=train_line[0].get_color(), alpha=0.2)\n",
    "    plt.fill_between(param_values, valid_mu - valid_std, valid_mu + valid_std, edgecolor='none',\n",
    "                     facecolor=valid_line[0].get_color(), alpha=0.2)\n",
    "    plt.legend()"
   ]
  },
  {
   "cell_type": "markdown",
   "metadata": {},
   "source": [
    "**1. Обучите `KNeighborsClassifier` со 100 ближайшими соседями (остальные параметры оставьте по умолчанию, только `n_jobs`=-1 для распараллеливания) и посмотрите на долю правильных ответов на 3-кратной кросс-валидации (ради воспроизводимости используйте для этого объект `StratifiedKFold` `skf`) по выборке `(X_train, y_train)` и отдельно на выборке `(X_valid, y_valid)`.**"
   ]
  },
  {
   "cell_type": "code",
   "execution_count": 11,
   "metadata": {},
   "outputs": [],
   "source": [
    "from sklearn.neighbors import KNeighborsClassifier"
   ]
  },
  {
   "cell_type": "code",
   "execution_count": 12,
   "metadata": {},
   "outputs": [],
   "source": [
    "knn = KNeighborsClassifier(n_neighbors = 100, n_jobs = 1)"
   ]
  },
  {
   "cell_type": "markdown",
   "metadata": {},
   "source": [
    "**<font color='red'>Вопрос 1. </font> Посчитайте доли правильных ответов для KNeighborsClassifier на кросс-валидации и отложенной выборке. Округлите каждое до 3 знаков после запятой и введите через пробел.**"
   ]
  },
  {
   "cell_type": "code",
   "execution_count": 13,
   "metadata": {},
   "outputs": [
    {
     "name": "stdout",
     "output_type": "stream",
     "text": [
      "StratifiedKFold score on train data 0.562000\n",
      "Score on test data 0.584000\n"
     ]
    }
   ],
   "source": [
    "knn.fit(X_train, y_train)\n",
    "scores = cross_val_score(knn, X_train, y_train, cv = skf)\n",
    "print('StratifiedKFold score on train data %f' %  round(np.mean(scores),3))\n",
    "print('Score on test data %f' % round(accuracy_score(knn.predict(X_valid), y_valid),3))"
   ]
  },
  {
   "cell_type": "markdown",
   "metadata": {},
   "source": [
    "**2. Обучите случайный лес (`RandomForestClassifier`) из 100 деревьев (для воспроизводимости `random_state`=17). Посмотрите на OOB-оценку (для этого надо сразу установить `oob_score`=True) и на долю правильных ответов на выборке `(X_valid, y_valid)`. Для распараллеливания задайте `n_jobs`=-1.**"
   ]
  },
  {
   "cell_type": "code",
   "execution_count": 14,
   "metadata": {},
   "outputs": [],
   "source": [
    "from sklearn.ensemble import RandomForestClassifier"
   ]
  },
  {
   "cell_type": "code",
   "execution_count": 15,
   "metadata": {},
   "outputs": [
    {
     "name": "stdout",
     "output_type": "stream",
     "text": [
      "StratifiedKFold score on train data 0.716000\n",
      "Score on test data 0.734000\n"
     ]
    }
   ],
   "source": [
    "forest = RandomForestClassifier(n_estimators=100, random_state=17, oob_score=True)\n",
    "forest.fit(X_train, y_train)\n",
    "print('StratifiedKFold score on train data %f' % round(cross_val_score(forest, X_train, y_train, cv=skf).mean(), 3))\n",
    "print('Score on test data %f' % round(accuracy_score(forest.predict(X_valid), y_valid),3))"
   ]
  },
  {
   "cell_type": "markdown",
   "metadata": {},
   "source": [
    "**<font color='red'>Вопрос 2. </font> Посчитайте доли правильных ответов для `RandomForestClassifier` при Out-of-Bag оценке и на отложенной выборке. Округлите каждое до 3 знаков после запятой и введите через пробел.**"
   ]
  },
  {
   "cell_type": "code",
   "execution_count": 16,
   "metadata": {},
   "outputs": [],
   "source": [
    "write_answer_to_file('0.716 0.734',\n",
    "                     os.path.join(PATH_TO_DATA, 'answer4_2.txt'))"
   ]
  },
  {
   "cell_type": "code",
   "execution_count": 27,
   "metadata": {},
   "outputs": [
    {
     "name": "stdout",
     "output_type": "stream",
     "text": [
      "0.716 0.734"
     ]
    }
   ],
   "source": [
    "!cat answer4_2.txt"
   ]
  },
  {
   "cell_type": "markdown",
   "metadata": {},
   "source": [
    "**3. Обучите логистическую регрессию (`LogisticRegression`) с параметром `C` по умолчанию и `random_state`=17 (для воспроизводимости). Посмотрите на долю правильных ответов на кросс-валидации (используйте объект `skf`, созданный ранее) и на выборке `(X_valid, y_valid)`. Для распараллеливания задайте `n_jobs=-1`.**"
   ]
  },
  {
   "cell_type": "code",
   "execution_count": 9,
   "metadata": {},
   "outputs": [],
   "source": [
    "from sklearn.linear_model import LogisticRegression, LogisticRegressionCV"
   ]
  },
  {
   "cell_type": "code",
   "execution_count": 18,
   "metadata": {},
   "outputs": [
    {
     "name": "stdout",
     "output_type": "stream",
     "text": [
      "StratifiedKFold score on train data 0.763000\n",
      "Score on test data 0.782000\n"
     ]
    }
   ],
   "source": [
    "logit = LogisticRegression(random_state=17)\n",
    "logit.fit(X_train, y_train)\n",
    "print('StratifiedKFold score on train data %f' % round(cross_val_score(logit, X_train, y_train, cv=skf).mean(), 3))\n",
    "print('Score on test data %f' % round(accuracy_score(logit.predict(X_valid), y_valid),3))"
   ]
  },
  {
   "cell_type": "markdown",
   "metadata": {},
   "source": [
    "**Почитайте документацию к [LogisticRegressionCV](http://scikit-learn.org/stable/modules/generated/sklearn.linear_model.LogisticRegressionCV.html). Логистическая регрессия хорошо изучена, и для нее существуют алгоритмы быстрого подбора параметра регуляризации `C` (быстрее, чем с `GridSearchCV`).**\n",
    "\n",
    "**С помощью `LogisticRegressionCV` подберите параметр `C` для `LogisticRegression` сначала в широком диапазоне: 10 значений от 1e-4 до 1e2, используйте `logspace` из `NumPy`. Укажите у `LogisticRegressionCV` параметры `multi_class`='multinomial' и `random_state`=17. Для кросс-валидации используйте объект `skf`, созданный ранее. Для распараллеливания задайте `n_jobs=-1`.**\n",
    "\n",
    "**Нарисуйте кривые валидации по параметру `C`.**"
   ]
  },
  {
   "cell_type": "code",
   "execution_count": 19,
   "metadata": {},
   "outputs": [
    {
     "name": "stdout",
     "output_type": "stream",
     "text": [
      "CPU times: user 54.1 s, sys: 3.12 s, total: 57.3 s\n",
      "Wall time: 20.5 s\n"
     ]
    },
    {
     "data": {
      "text/plain": [
       "LogisticRegressionCV(Cs=array([1.00000000e-04, 4.64158883e-04, 2.15443469e-03, 1.00000000e-02,\n",
       "       4.64158883e-02, 2.15443469e-01, 1.00000000e+00, 4.64158883e+00,\n",
       "       2.15443469e+01, 1.00000000e+02]),\n",
       "                     class_weight=None, cv='warn', dual=False,\n",
       "                     fit_intercept=True, intercept_scaling=1.0, l1_ratios=None,\n",
       "                     max_iter=100, multi_class='multinomial', n_jobs=None,\n",
       "                     penalty='l2', random_state=17, refit=True, scoring=None,\n",
       "                     solver='lbfgs', tol=0.0001, verbose=0)"
      ]
     },
     "execution_count": 19,
     "metadata": {},
     "output_type": "execute_result"
    }
   ],
   "source": [
    "%%time\n",
    "logit_c_values1 = np.logspace(-4, 2, 10)\n",
    "\n",
    "logit_grid_searcher1 = LogisticRegressionCV(Cs = logit_c_values1, multi_class='multinomial', random_state=17)\n",
    "logit_grid_searcher1.fit(X_train, y_train)"
   ]
  },
  {
   "cell_type": "markdown",
   "metadata": {},
   "source": [
    "Средние значения доли правильных ответов на кросс-валидации по каждому из 10 параметров `C`."
   ]
  },
  {
   "cell_type": "code",
   "execution_count": 47,
   "metadata": {},
   "outputs": [],
   "source": [
    "logit_mean_cv_scores1 = (np.mean(logit_grid_searcher1.scores_.get(31), axis=0))"
   ]
  },
  {
   "cell_type": "markdown",
   "metadata": {},
   "source": [
    "Выведите лучшее значение доли правильных ответов на кросс-валидации и соответствующее значение `C`."
   ]
  },
  {
   "cell_type": "code",
   "execution_count": 23,
   "metadata": {},
   "outputs": [
    {
     "data": {
      "text/plain": [
       "0.7609235825322113"
      ]
     },
     "execution_count": 23,
     "metadata": {},
     "output_type": "execute_result"
    }
   ],
   "source": [
    "cross_val_score(logit_grid_searcher1, X_train, y_train, cv=skf).mean()"
   ]
  },
  {
   "cell_type": "markdown",
   "metadata": {},
   "source": [
    "Нарисуйте график зависимости доли правильных ответов на кросс-валидации от `C`."
   ]
  },
  {
   "cell_type": "code",
   "execution_count": 53,
   "metadata": {},
   "outputs": [
    {
     "data": {
      "text/plain": [
       "[<matplotlib.lines.Line2D at 0x1a3a89c510>]"
      ]
     },
     "execution_count": 53,
     "metadata": {},
     "output_type": "execute_result"
    },
    {
     "data": {
      "image/png": "[encoded data removed]",
      "text/plain": [
       "<Figure size 432x288 with 1 Axes>"
      ]
     },
     "metadata": {
      "needs_background": "light"
     },
     "output_type": "display_data"
    }
   ],
   "source": [
    "plt.plot(logit_c_values1, logit_mean_cv_scores1)\n"
   ]
  },
  {
   "cell_type": "markdown",
   "metadata": {},
   "source": [
    "**Теперь то же самое, только значения параметра `C` перебирайте в диапазоне `np.linspace`(0.1, 7, 20). Опять нарисуйте кривые валидации, определите максимальное значение доли правильных ответов на кросс-валидации.**"
   ]
  },
  {
   "cell_type": "code",
   "execution_count": 22,
   "metadata": {},
   "outputs": [
    {
     "name": "stdout",
     "output_type": "stream",
     "text": [
      "CPU times: user 2min 7s, sys: 6.89 s, total: 2min 14s\n",
      "Wall time: 46.3 s\n"
     ]
    },
    {
     "data": {
      "text/plain": [
       "LogisticRegressionCV(Cs=array([0.1       , 0.46315789, 0.82631579, 1.18947368, 1.55263158,\n",
       "       1.91578947, 2.27894737, 2.64210526, 3.00526316, 3.36842105,\n",
       "       3.73157895, 4.09473684, 4.45789474, 4.82105263, 5.18421053,\n",
       "       5.54736842, 5.91052632, 6.27368421, 6.63684211, 7.        ]),\n",
       "                     class_weight=None, cv='warn', dual=False,\n",
       "                     fit_intercept=True, intercept_scaling=1.0, l1_ratios=None,\n",
       "                     max_iter=100, multi_class='multinomial', n_jobs=None,\n",
       "                     penalty='l2', random_state=17, refit=True, scoring=None,\n",
       "                     solver='lbfgs', tol=0.0001, verbose=0)"
      ]
     },
     "execution_count": 22,
     "metadata": {},
     "output_type": "execute_result"
    }
   ],
   "source": [
    "%%time\n",
    "logit_c_values2 = np.linspace(0.1, 7, 20)\n",
    "\n",
    "logit_grid_searcher2 = LogisticRegressionCV( Cs = logit_c_values2, multi_class='multinomial', random_state=17)\n",
    "logit_grid_searcher2.fit(X_train, y_train)"
   ]
  },
  {
   "cell_type": "markdown",
   "metadata": {},
   "source": [
    "Средние значения доли правильных ответов на кросс-валидации по каждому из 10 параметров `C`."
   ]
  },
  {
   "cell_type": "code",
   "execution_count": 59,
   "metadata": {},
   "outputs": [
    {
     "data": {
      "text/plain": [
       "array([0.73684386, 0.75797677, 0.76102512, 0.76051677, 0.76011039,\n",
       "       0.76021251, 0.76082149, 0.76021235, 0.75878931, 0.75858593,\n",
       "       0.7582814 , 0.75818011, 0.7578757 , 0.75777423, 0.75736775,\n",
       "       0.7568594 , 0.7565544 , 0.75635165, 0.75635137, 0.75604655])"
      ]
     },
     "execution_count": 59,
     "metadata": {},
     "output_type": "execute_result"
    }
   ],
   "source": [
    "logit_mean_cv_scores2 = (np.mean(logit_grid_searcher2.scores_.get(31), axis=0))\n",
    "logit_mean_cv_scores2"
   ]
  },
  {
   "cell_type": "markdown",
   "metadata": {},
   "source": [
    "Выведите лучшее значение доли правильных ответов на кросс-валидации и соответствующее значение `C`."
   ]
  },
  {
   "cell_type": "code",
   "execution_count": 56,
   "metadata": {},
   "outputs": [
    {
     "data": {
      "text/plain": [
       "0.7616345315365575"
      ]
     },
     "execution_count": 56,
     "metadata": {},
     "output_type": "execute_result"
    }
   ],
   "source": [
    "cross_val_score(logit_grid_searcher2, X_train, y_train, cv=skf).mean()"
   ]
  },
  {
   "cell_type": "markdown",
   "metadata": {},
   "source": [
    "Нарисуйте график зависимости доли правильных ответов на кросс-валидации от `C`."
   ]
  },
  {
   "cell_type": "code",
   "execution_count": 57,
   "metadata": {},
   "outputs": [
    {
     "data": {
      "image/png": "[encoded data removed]",
      "text/plain": [
       "<Figure size 432x288 with 1 Axes>"
      ]
     },
     "metadata": {
      "needs_background": "light"
     },
     "output_type": "display_data"
    }
   ],
   "source": [
    "plt.plot(logit_c_values2, logit_mean_cv_scores2);"
   ]
  },
  {
   "cell_type": "code",
   "execution_count": 66,
   "metadata": {},
   "outputs": [
    {
     "data": {
      "text/plain": [
       "array([0.73684386, 0.75797677, 0.76102512, 0.76051677, 0.76011039,\n",
       "       0.76021251, 0.76082149, 0.76021235, 0.75878931, 0.75858593,\n",
       "       0.7582814 , 0.75818011, 0.7578757 , 0.75777423, 0.75736775,\n",
       "       0.7568594 , 0.7565544 , 0.75635165, 0.75635137, 0.75604655])"
      ]
     },
     "execution_count": 66,
     "metadata": {},
     "output_type": "execute_result"
    }
   ],
   "source": [
    "logit_mean_cv_scores2"
   ]
  },
  {
   "cell_type": "code",
   "execution_count": 65,
   "metadata": {},
   "outputs": [
    {
     "data": {
      "text/plain": [
       "array([0.1       , 0.46315789, 0.82631579, 1.18947368, 1.55263158,\n",
       "       1.91578947, 2.27894737, 2.64210526, 3.00526316, 3.36842105,\n",
       "       3.73157895, 4.09473684, 4.45789474, 4.82105263, 5.18421053,\n",
       "       5.54736842, 5.91052632, 6.27368421, 6.63684211, 7.        ])"
      ]
     },
     "execution_count": 65,
     "metadata": {},
     "output_type": "execute_result"
    }
   ],
   "source": [
    "logit_c_values2"
   ]
  },
  {
   "cell_type": "markdown",
   "metadata": {},
   "source": [
    "Выведите долю правильных ответов на выборке `(X_valid, y_valid)` для логистической регрессии с лучшим найденным значением `C`."
   ]
  },
  {
   "cell_type": "code",
   "execution_count": 61,
   "metadata": {},
   "outputs": [
    {
     "data": {
      "text/plain": [
       "0.7755392273050485"
      ]
     },
     "execution_count": 61,
     "metadata": {},
     "output_type": "execute_result"
    }
   ],
   "source": [
    "logit_cv_acc = accuracy_score(y_valid, logit_grid_searcher2.predict(X_valid))\n",
    "logit_cv_acc"
   ]
  },
  {
   "cell_type": "markdown",
   "metadata": {},
   "source": [
    "**<font color='red'>Вопрос 3. </font>Посчитайте доли правильных ответов для `logit_grid_searcher2` на кросс-валидации для лучшего значения параметра `C` и на отложенной выборке. Округлите каждое до 3 знаков после запятой и выведите через пробел.**"
   ]
  },
  {
   "cell_type": "code",
   "execution_count": 62,
   "metadata": {},
   "outputs": [],
   "source": [
    "write_answer_to_file('0.762 0.776',\n",
    "                     os.path.join(PATH_TO_DATA, 'answer4_3.txt'))"
   ]
  },
  {
   "cell_type": "markdown",
   "metadata": {},
   "source": [
    "**4. Обучите линейный SVM (`LinearSVC`) с параметром `C`=1 и `random_state`=17 (для воспроизводимости). Посмотрите на долю правильных ответов на кросс-валидации (используйте объект `skf`, созданный ранее) и на выборке `(X_valid, y_valid)`.**"
   ]
  },
  {
   "cell_type": "code",
   "execution_count": 69,
   "metadata": {},
   "outputs": [],
   "source": [
    "from sklearn.svm import LinearSVC"
   ]
  },
  {
   "cell_type": "code",
   "execution_count": 70,
   "metadata": {},
   "outputs": [],
   "source": [
    "svm = LinearSVC(C = 1, random_state=17)"
   ]
  },
  {
   "cell_type": "markdown",
   "metadata": {},
   "source": [
    "**С помощью `GridSearchCV` подберите параметр `C` для SVM сначала в широком диапазоне: 10 значений от 1e-4 до 1e4, используйте `linspace` из NumPy. Нарисуйте кривые валидации.**"
   ]
  },
  {
   "cell_type": "code",
   "execution_count": 16,
   "metadata": {},
   "outputs": [
    {
     "name": "stdout",
     "output_type": "stream",
     "text": [
      "CPU times: user 39.9 s, sys: 294 ms, total: 40.2 s\n",
      "Wall time: 41.7 s\n"
     ]
    },
    {
     "data": {
      "text/plain": [
       "GridSearchCV(cv=StratifiedKFold(n_splits=3, random_state=17, shuffle=True),\n",
       "             error_score='raise-deprecating',\n",
       "             estimator=LinearSVC(C=1, class_weight=None, dual=True,\n",
       "                                 fit_intercept=True, intercept_scaling=1,\n",
       "                                 loss='squared_hinge', max_iter=1000,\n",
       "                                 multi_class='ovr', penalty='l2',\n",
       "                                 random_state=17, tol=0.0001, verbose=0),\n",
       "             iid='warn', n_jobs=None,\n",
       "             param_grid={'C': array([1.0000000e-04, 1.1111112e+03, 2.2222223e+03, 3.3333334e+03,\n",
       "       4.4444445e+03, 5.5555556e+03, 6.6666667e+03, 7.7777778e+03,\n",
       "       8.8888889e+03, 1.0000000e+04])},\n",
       "             pre_dispatch='2*n_jobs', refit=True, return_train_score=True,\n",
       "             scoring=None, verbose=0)"
      ]
     },
     "execution_count": 16,
     "metadata": {},
     "output_type": "execute_result"
    }
   ],
   "source": [
    "%%time\n",
    "svm_params1 = {'C': np.linspace(1e-4, 1e4, 10)}\n",
    "\n",
    "svm_grid_searcher1 = GridSearchCV(svm,svm_params1, cv=skf, return_train_score=True)\n",
    "svm_grid_searcher1.fit(X_train, y_train)"
   ]
  },
  {
   "cell_type": "markdown",
   "metadata": {},
   "source": [
    "Выведите лучшее значение доли правильных ответов на кросс-валидации и соответствующее значение `C`."
   ]
  },
  {
   "cell_type": "code",
   "execution_count": 21,
   "metadata": {},
   "outputs": [
    {
     "name": "stdout",
     "output_type": "stream",
     "text": [
      "0.6924405608616135\n",
      "{'C': 1111.1112}\n"
     ]
    }
   ],
   "source": [
    "print(svm_grid_searcher1.best_score_)\n",
    "print(svm_grid_searcher1.best_params_)"
   ]
  },
  {
   "cell_type": "markdown",
   "metadata": {},
   "source": [
    "Нарисуйте график зависимости доли правильных ответов на кросс-валидации от `C`."
   ]
  },
  {
   "cell_type": "code",
   "execution_count": 20,
   "metadata": {},
   "outputs": [
    {
     "data": {
      "image/png": "[encoded data removed]",
      "text/plain": [
       "<Figure size 432x288 with 1 Axes>"
      ]
     },
     "metadata": {
      "needs_background": "light"
     },
     "output_type": "display_data"
    }
   ],
   "source": [
    "plot_validation_curves(svm_params1['C'], svm_grid_searcher1.cv_results_)"
   ]
  },
  {
   "cell_type": "markdown",
   "metadata": {},
   "source": [
    "**Но мы помним, что с параметром регуляризации по умолчанию (С=1) на кросс-валидации доля правильных ответов выше. Это тот случай (не редкий), когда можно ошибиться и перебирать параметры не в том диапазоне (причина в том, что мы взяли равномерную сетку на большом интервале и упустили действительно хороший интервал значений `C`). Здесь намного осмысленней подбирать `C` в районе 1, к тому же, так модель быстрее обучается, чем при больших `C`. **\n",
    "\n",
    "**С помощью `GridSearchCV` подберите параметр `C` для SVM в диапазоне (1e-3, 1), 30 значений, используйте `linspace` из NumPy. Нарисуйте кривые валидации.**"
   ]
  },
  {
   "cell_type": "code",
   "execution_count": 71,
   "metadata": {},
   "outputs": [
    {
     "name": "stdout",
     "output_type": "stream",
     "text": [
      "CPU times: user 1min 11s, sys: 569 ms, total: 1min 12s\n",
      "Wall time: 1min 14s\n"
     ]
    },
    {
     "data": {
      "text/plain": [
       "GridSearchCV(cv=StratifiedKFold(n_splits=3, random_state=17, shuffle=True),\n",
       "             error_score='raise-deprecating',\n",
       "             estimator=LinearSVC(C=1, class_weight=None, dual=True,\n",
       "                                 fit_intercept=True, intercept_scaling=1,\n",
       "                                 loss='squared_hinge', max_iter=1000,\n",
       "                                 multi_class='ovr', penalty='l2',\n",
       "                                 random_state=17, tol=0.0001, verbose=0),\n",
       "             iid='warn', n_jobs=None,\n",
       "             param_grid={'C': array([0.00...\n",
       "       0.17324138, 0.20768966, 0.24213793, 0.27658621, 0.31103448,\n",
       "       0.34548276, 0.37993103, 0.41437931, 0.44882759, 0.48327586,\n",
       "       0.51772414, 0.55217241, 0.58662069, 0.62106897, 0.65551724,\n",
       "       0.68996552, 0.72441379, 0.75886207, 0.79331034, 0.82775862,\n",
       "       0.8622069 , 0.89665517, 0.93110345, 0.96555172, 1.        ])},\n",
       "             pre_dispatch='2*n_jobs', refit=True, return_train_score=True,\n",
       "             scoring=None, verbose=0)"
      ]
     },
     "execution_count": 71,
     "metadata": {},
     "output_type": "execute_result"
    }
   ],
   "source": [
    "%%time\n",
    "svm_params2 = {'C': np.linspace(1e-3, 1, 30)}\n",
    "\n",
    "svm_grid_searcher2 = GridSearchCV(svm,svm_params2, cv=skf, return_train_score=True)\n",
    "svm_grid_searcher2.fit(X_train, y_train)"
   ]
  },
  {
   "cell_type": "markdown",
   "metadata": {},
   "source": [
    "Выведите лучшее значение доли правильных ответов на кросс-валидации и соответствующее значение `C`."
   ]
  },
  {
   "cell_type": "code",
   "execution_count": 23,
   "metadata": {},
   "outputs": [
    {
     "name": "stdout",
     "output_type": "stream",
     "text": [
      "0.7649867913025807\n",
      "{'C': 0.24213793103448275}\n"
     ]
    }
   ],
   "source": [
    "print(svm_grid_searcher2.best_score_)\n",
    "print(svm_grid_searcher2.best_params_)"
   ]
  },
  {
   "cell_type": "markdown",
   "metadata": {},
   "source": [
    "Нарисуйте график зависимости доли правильных ответов на кросс-валидации от С."
   ]
  },
  {
   "cell_type": "code",
   "execution_count": 24,
   "metadata": {},
   "outputs": [
    {
     "data": {
      "image/png": "[encoded data removed]",
      "text/plain": [
       "<Figure size 432x288 with 1 Axes>"
      ]
     },
     "metadata": {
      "needs_background": "light"
     },
     "output_type": "display_data"
    }
   ],
   "source": [
    "plot_validation_curves(svm_params2['C'], svm_grid_searcher2.cv_results_)"
   ]
  },
  {
   "cell_type": "markdown",
   "metadata": {},
   "source": [
    "Выведите долю правильных ответов на выборке `(X_valid, y_valid)` для `LinearSVC` с лучшим найденным значением `C`."
   ]
  },
  {
   "cell_type": "code",
   "execution_count": 26,
   "metadata": {},
   "outputs": [],
   "source": [
    "svm_cv_acc = accuracy_score(svm_grid_searcher2.predict(X_valid), y_valid)"
   ]
  },
  {
   "cell_type": "markdown",
   "metadata": {},
   "source": [
    "**<font color='red'>Вопрос 4. </font> Посчитайте доли правильных ответов для `svm_grid_searcher2` на кросс-валидации для лучшего значения параметра `C` и на отложенной выборке. Округлите каждое до 3 знаков после запятой и выведите через пробел.**"
   ]
  },
  {
   "cell_type": "code",
   "execution_count": 27,
   "metadata": {},
   "outputs": [
    {
     "name": "stdout",
     "output_type": "stream",
     "text": [
      "StratifiedKFold score on train data 0.765000\n",
      "Score on test data 0.784000\n"
     ]
    }
   ],
   "source": [
    "print('StratifiedKFold score on train data %f' % round(svm_grid_searcher2.best_score_, 3))\n",
    "print('Score on test data %f' % round(svm_cv_acc,3))"
   ]
  },
  {
   "cell_type": "code",
   "execution_count": 28,
   "metadata": {},
   "outputs": [],
   "source": [
    "write_answer_to_file('0.765 0.784',\n",
    "                     os.path.join(PATH_TO_DATA, 'answer4_4.txt'))"
   ]
  },
  {
   "cell_type": "markdown",
   "metadata": {},
   "source": [
    "## Часть 2. Выбор параметров – длины сессии и ширины окна"
   ]
  },
  {
   "cell_type": "markdown",
   "metadata": {},
   "source": [
    "**Возьмем `LinearSVC`, показавший лучшее качество на кросс-валидации в 1 части, и проверим его работу еще на 8 выборках для 10 пользователей (с разными сочетаниями параметров *session_length* и *window_size*). Поскольку тут уже вычислений побольше, мы не будем каждый раз заново подбирать параметр регуляризации `C`.**\n",
    "\n",
    "**Определите функцию `model_assessment`, ее документация описана ниже. Обратите внимание на все детали. Например, на то, что разбиение  выборки с `train_test_split` должно быть стратифицированным. Не теряйте нигде `random_state`.**"
   ]
  },
  {
   "cell_type": "code",
   "execution_count": 76,
   "metadata": {},
   "outputs": [],
   "source": [
    "def model_assessment(estimator, path_to_X_pickle, path_to_y_pickle, cv, random_state=17, test_size=0.3):\n",
    "    '''\n",
    "    Estimates CV-accuracy for (1 - test_size) share of (X_sparse, y) \n",
    "    loaded from path_to_X_pickle and path_to_y_pickle and holdout accuracy for (test_size) share of (X_sparse, y).\n",
    "    The split is made with stratified train_test_split with params random_state and test_size.\n",
    "    \n",
    "    :param estimator – Scikit-learn estimator (classifier or regressor)\n",
    "    :param path_to_X_pickle – path to pickled sparse X (instances and their features)\n",
    "    :param path_to_y_pickle – path to pickled y (responses)\n",
    "    :param cv – cross-validation as in cross_val_score (use StratifiedKFold here)\n",
    "    :param random_state –  for train_test_split\n",
    "    :param test_size –  for train_test_split\n",
    "    \n",
    "    :returns mean CV-accuracy for (X_train, y_train) and accuracy for (X_valid, y_valid) where (X_train, y_train)\n",
    "    and (X_valid, y_valid) are (1 - test_size) and (testsize) shares of (X_sparse, y).\n",
    "    '''\n",
    "    with open(path_to_X_pickle, 'rb') as X_pkl:\n",
    "        X = pickle.load(X_pkl)\n",
    "    with open(path_to_y_pickle, 'rb') as y_pkl:\n",
    "        y= pickle.load(y_pkl)\n",
    "    \n",
    "    X_train, X_test, y_train, y_test = train_test_split(X, y, \n",
    "                                                      test_size=test_size, \n",
    "                                                     random_state=random_state, stratify=y)\n",
    "    \n",
    "    clf = estimator\n",
    "    clf.fit(X_train, y_train)\n",
    "    \n",
    "    return(cross_val_score(clf, X_train, y_train, cv=skf).mean(),\n",
    "          accuracy_score(clf.predict(X_test), y_test))\n",
    "    \n",
    "    "
   ]
  },
  {
   "cell_type": "markdown",
   "metadata": {},
   "source": [
    "**Убедитесь, что функция работает.**"
   ]
  },
  {
   "cell_type": "code",
   "execution_count": 77,
   "metadata": {},
   "outputs": [
    {
     "data": {
      "text/plain": [
       "(0.7649865831742932, 0.7835980090068737)"
      ]
     },
     "execution_count": 77,
     "metadata": {},
     "output_type": "execute_result"
    }
   ],
   "source": [
    "model_assessment(svm_grid_searcher2.best_estimator_, \n",
    "                 os.path.join(PATH_TO_DATA, 'X_sparse_10users.pkl'),\n",
    "        os.path.join(PATH_TO_DATA, 'y_10users.pkl'), skf, random_state=17, test_size=0.3)"
   ]
  },
  {
   "cell_type": "markdown",
   "metadata": {},
   "source": [
    "score совпадает -> функция работает корректно"
   ]
  },
  {
   "cell_type": "markdown",
   "metadata": {},
   "source": [
    "**Примените функцию *model_assessment* для лучшего алгоритма из предыдущей части (а именно, `svm_grid_searcher2.best_estimator_`) и 9 выборок вида с разными сочетаниями параметров *session_length* и *window_size* для 10 пользователей. Выведите в цикле параметры *session_length* и *window_size*, а также результат вывода функции *model_assessment*. \n",
    "Удобно сделать так, чтоб *model_assessment* возвращала 3-им элементом время, за которое она выполнилась. На моем ноуте этот участок кода выполнился за 20 секунд. Но со 150 пользователями каждая итерация занимает уже несколько минут.**"
   ]
  },
  {
   "cell_type": "markdown",
   "metadata": {},
   "source": [
    "Здесь для удобства стоит создать копии ранее созданных pickle-файлов X_sparse_10users.pkl, X_sparse_150users.pkl, y_10users.pkl и y_150users.pkl, добавив к их названиям s10_w10, что означает длину сессии 10 и ширину окна 10. "
   ]
  },
  {
   "cell_type": "code",
   "execution_count": 29,
   "metadata": {},
   "outputs": [],
   "source": [
    "!cp $PATH_TO_DATA/X_sparse_10users.pkl $PATH_TO_DATA/X_sparse_10users_s10_w10.pkl \n",
    "!cp $PATH_TO_DATA/X_sparse_150users.pkl $PATH_TO_DATA/X_sparse_150users_s10_w10.pkl \n",
    "!cp $PATH_TO_DATA/y_10users.pkl $PATH_TO_DATA/y_10users_s10_w10.pkl \n",
    "!cp $PATH_TO_DATA/y_150users.pkl $PATH_TO_DATA/y_150users_s10_w10.pkl "
   ]
  },
  {
   "cell_type": "code",
   "execution_count": 51,
   "metadata": {},
   "outputs": [
    {
     "name": "stdout",
     "output_type": "stream",
     "text": [
      "Window 10.000000 Session_length 15.000000\n",
      "(0.8236146528931586, 0.8402465039108794)\n",
      "Window 10.000000 Session_length 10.000000\n",
      "(0.7649865831742932, 0.7835980090068737)\n",
      "Window 7.000000 Session_length 15.000000\n",
      "(0.8497839675458435, 0.8549858967977435)\n",
      "Window 7.000000 Session_length 10.000000\n",
      "(0.7997122815541956, 0.806703169072507)\n",
      "Window 7.000000 Session_length 7.000000\n",
      "(0.7512059972160369, 0.7632321221171395)\n",
      "Window 5.000000 Session_length 15.000000\n",
      "(0.8713555893473997, 0.8770744428639166)\n",
      "Window 5.000000 Session_length 10.000000\n",
      "(0.8180574733785416, 0.8279990516832622)\n",
      "Window 5.000000 Session_length 7.000000\n",
      "(0.7730925535908787, 0.7879326695116169)\n",
      "Window 5.000000 Session_length 5.000000\n",
      "(0.7244694135749855, 0.7376718824087245)\n",
      "CPU times: user 36.3 s, sys: 154 ms, total: 36.4 s\n",
      "Wall time: 36.6 s\n"
     ]
    }
   ],
   "source": [
    "%%time\n",
    "estimator = svm_grid_searcher2.best_estimator_\n",
    "\n",
    "for window_size, session_length in itertools.product([10, 7, 5], [15, 10, 7, 5]):\n",
    "    if window_size <= session_length:\n",
    "        args = [session_length, window_size]\n",
    "        path_to_X_pkl = os.path.join(PATH_TO_DATA, 'X_sparse_10users_s{0}_w{1}.pkl'.format(*args))\n",
    "        path_to_y_pkl = os.path.join(PATH_TO_DATA, 'y_10users_s{0}_w{1}.pkl'.format(*args))\n",
    "        print('Window %f' % window_size, 'Session_length %f' % session_length)\n",
    "        print (model_assessment(estimator, path_to_X_pkl, path_to_y_pkl, skf, random_state=17, test_size=0.3))"
   ]
  },
  {
   "cell_type": "markdown",
   "metadata": {},
   "source": [
    "**<font color='red'>Вопрос 5. </font> Посчитайте доли правильных ответов для `LinearSVC` с настроенным параметром `C` и выборки `X_sparse_10users_s15_w5`. Укажите доли правильных ответов на кросс-валидации и на отложенной выборке. Округлите каждое до 3 знаков после запятой и выведите через пробел.**"
   ]
  },
  {
   "cell_type": "code",
   "execution_count": 52,
   "metadata": {},
   "outputs": [],
   "source": [
    "write_answer_to_file('0.871 0.877',\n",
    "                     os.path.join(PATH_TO_DATA, 'answer4_5.txt'))"
   ]
  },
  {
   "cell_type": "markdown",
   "metadata": {},
   "source": [
    "**Прокомментируйте полученные результаты. Сравните для 150 пользователей доли правильных ответов на кросс-валидации и оставленной выборке для сочетаний параметров (*session_length, window_size*): (5,5), (7,7) и (10,10). На среднем ноуте это может занять до часа – запаситесь терпением, это Data Science :) **\n",
    "\n",
    "**Сделайте вывод о том, как качество классификации зависит от длины сессии и ширины окна.**"
   ]
  },
  {
   "cell_type": "code",
   "execution_count": null,
   "metadata": {
    "collapsed": true
   },
   "outputs": [],
   "source": [
    "%%time\n",
    "estimator = svm_grid_searcher2.best_estimator_\n",
    "\n",
    "for window_size, session_length in [(5,5), (7,7), (10,10)]:\n",
    "     args = [session_length, window_size]\n",
    "    path_to_X_pkl = os.path.join(PATH_TO_DATA, 'X_sparse_150users_s{0}_w{1}.pkl'.format(*args))\n",
    "    path_to_y_pkl = os.path.join(PATH_TO_DATA, 'y_150users_s{0}_w{1}.pkl'.format(*args))\n",
    "    print('Window %f' % window_size, 'Session_length %f' % session_length)\n",
    "    print (model_assessment(estimator, path_to_X_pkl, path_to_y_pkl, skf, random_state=17, test_size=0.3))"
   ]
  },
  {
   "cell_type": "markdown",
   "metadata": {},
   "source": [
    "**<font color='red'>Вопрос 6. </font> Посчитайте доли правильных ответов для `LinearSVC` с настроенным параметром `C` и выборки `X_sparse_150users`. Укажите доли правильных ответов на кросс-валидации и на отложенной выборке. Округлите каждое до 3 знаков после запятой и выведите через пробел.**"
   ]
  },
  {
   "cell_type": "code",
   "execution_count": null,
   "metadata": {
    "collapsed": true
   },
   "outputs": [],
   "source": [
    "write_answer_to_file('0.871 0.877',\n",
    "                     os.path.join(PATH_TO_DATA, 'answer4_6.txt'))"
   ]
  },
  {
   "cell_type": "markdown",
   "metadata": {},
   "source": [
    "## Часть 3. Идентификация  конкретного пользователя и кривые обучения"
   ]
  },
  {
   "cell_type": "markdown",
   "metadata": {},
   "source": [
    "**Поскольку может разочаровать, что многоклассовая доля правильных ответов на выборке из 150 пользовалей невелика, порадуемся тому, что конкретного пользователя можно идентифицировать достаточно хорошо. **"
   ]
  },
  {
   "cell_type": "markdown",
   "metadata": {},
   "source": [
    "**Загрузим сериализованные ранее объекты *X_sparse_150users* и *y_150users*, соответствующие обучающей выборке для 150 пользователей с параметрами (*session_length, window_size*) = (10,10). Так же точно разобьем их на 70% и 30%.**"
   ]
  },
  {
   "cell_type": "code",
   "execution_count": 6,
   "metadata": {},
   "outputs": [],
   "source": [
    "with open(os.path.join(PATH_TO_DATA, 'X_sparse_150users.pkl'), 'rb') as X_sparse_150users_pkl:\n",
    "     X_sparse_150users = pickle.load(X_sparse_150users_pkl)\n",
    "with open(os.path.join(PATH_TO_DATA, 'y_150users.pkl'), 'rb') as y_150users_pkl:\n",
    "    y_150users = pickle.load(y_150users_pkl)"
   ]
  },
  {
   "cell_type": "code",
   "execution_count": 7,
   "metadata": {},
   "outputs": [],
   "source": [
    "X_train_150, X_valid_150, y_train_150, y_valid_150 = train_test_split(X_sparse_150users, \n",
    "                                                                      y_150users, test_size=0.3, \n",
    "                                                     random_state=17, stratify=y_150users)"
   ]
  },
  {
   "cell_type": "markdown",
   "metadata": {},
   "source": [
    "**Обучите `LogisticRegressionCV` для одного значения параметра `C` (лучшего на кросс-валидации в 1 части, используйте точное значение, не на глаз). Теперь будем решать 150 задач \"Один-против-Всех\", поэтому укажите аргумент `multi_class`='ovr'. Как всегда, где возможно, указывайте `n_jobs=-1` и `random_state`=17.**"
   ]
  },
  {
   "cell_type": "code",
   "execution_count": 25,
   "metadata": {},
   "outputs": [
    {
     "name": "stdout",
     "output_type": "stream",
     "text": [
      "CPU times: user 7min 3s, sys: 21.8 s, total: 7min 25s\n",
      "Wall time: 4min 29s\n"
     ]
    },
    {
     "data": {
      "text/plain": [
       "LogisticRegressionCV(Cs=[3.7315789473684213], class_weight=None,\n",
       "                     cv=StratifiedKFold(n_splits=3, random_state=17, shuffle=True),\n",
       "                     dual=False, fit_intercept=True, intercept_scaling=1.0,\n",
       "                     l1_ratios=None, max_iter=100, multi_class='ovr', n_jobs=-1,\n",
       "                     penalty='l2', random_state=17, refit=True, scoring=None,\n",
       "                     solver='lbfgs', tol=0.0001, verbose=0)"
      ]
     },
     "execution_count": 25,
     "metadata": {},
     "output_type": "execute_result"
    }
   ],
   "source": [
    "%%time\n",
    "logit_cv_150users = LogisticRegressionCV(Cs =  [logit_grid_searcher2.Cs_[10]], n_jobs=-1, random_state=17, multi_class='ovr', cv=skf)\n",
    "logit_cv_150users.fit(X_train_150, y_train_150)"
   ]
  },
  {
   "cell_type": "markdown",
   "metadata": {},
   "source": [
    "**Посмотрите на средние доли правильных ответов на кросс-валидации в задаче идентификации каждого пользователя по отдельности.**"
   ]
  },
  {
   "cell_type": "code",
   "execution_count": 16,
   "metadata": {},
   "outputs": [
    {
     "name": "stdout",
     "output_type": "stream",
     "text": [
      "User 6, CV score: 0.9958605417956022\n",
      "User 13, CV score: 0.9962988437657018\n",
      "User 15, CV score: 0.9952144941616708\n",
      "User 16, CV score: 0.9918053357013745\n",
      "User 28, CV score: 0.990126289191399\n",
      "User 31, CV score: 0.994494992675945\n",
      "User 33, CV score: 0.9936609787358054\n",
      "User 39, CV score: 0.9860497214718689\n",
      "User 46, CV score: 0.9980919658794004\n",
      "User 49, CV score: 0.9950791363690957\n",
      "User 50, CV score: 0.9944639254428281\n",
      "User 53, CV score: 0.9937132821275779\n",
      "User 65, CV score: 0.9969139510553036\n",
      "User 66, CV score: 0.9949329556438827\n",
      "User 82, CV score: 0.9963716258753559\n",
      "User 85, CV score: 0.9963093562623891\n",
      "User 89, CV score: 0.9906269213247908\n",
      "User 92, CV score: 0.9943907103744326\n",
      "User 100, CV score: 0.9947243924629983\n",
      "User 102, CV score: 0.9912421564512733\n",
      "User 103, CV score: 0.9805034317559714\n",
      "User 105, CV score: 0.9968931236551741\n",
      "User 106, CV score: 0.9946300536046052\n",
      "User 118, CV score: 0.9907833941753709\n",
      "User 119, CV score: 0.9965907528972139\n",
      "User 120, CV score: 0.9942657008915537\n",
      "User 126, CV score: 0.9950267864730801\n",
      "User 127, CV score: 0.991168075465395\n",
      "User 128, CV score: 0.9846214804086832\n",
      "User 138, CV score: 0.9972369700322262\n",
      "User 158, CV score: 0.9970911888595005\n",
      "User 160, CV score: 0.9968304636957597\n",
      "User 165, CV score: 0.9973310115526575\n",
      "User 172, CV score: 0.9965803541913251\n",
      "User 177, CV score: 0.9968722207105437\n",
      "User 203, CV score: 0.9973828301673558\n",
      "User 207, CV score: 0.9876138539791811\n",
      "User 223, CV score: 0.9965280130273019\n",
      "User 233, CV score: 0.9962778517045345\n",
      "User 235, CV score: 0.9967053404220824\n",
      "User 236, CV score: 0.990210002236353\n",
      "User 237, CV score: 0.989271325328339\n",
      "User 238, CV score: 0.9962361315139076\n",
      "User 240, CV score: 0.995840005945298\n",
      "User 241, CV score: 0.9960590113924587\n",
      "User 242, CV score: 0.9950267627469117\n",
      "User 245, CV score: 0.9961318409544493\n",
      "User 246, CV score: 0.9970493088478786\n",
      "User 249, CV score: 0.9952040010251554\n",
      "User 252, CV score: 0.9964655642331682\n",
      "User 254, CV score: 0.9918988192704643\n",
      "User 256, CV score: 0.9960589828262473\n",
      "User 258, CV score: 0.9958294367902347\n",
      "User 259, CV score: 0.9950267298147041\n",
      "User 260, CV score: 0.9972788544098444\n",
      "User 261, CV score: 0.9896365918852567\n",
      "User 263, CV score: 0.9927536979089372\n",
      "User 264, CV score: 0.9966323229469322\n",
      "User 269, CV score: 0.987019455458867\n",
      "User 270, CV score: 0.9892092765607391\n",
      "User 273, CV score: 0.9944011240744972\n",
      "User 287, CV score: 0.9904284342639494\n",
      "User 294, CV score: 0.9958502922825286\n",
      "User 298, CV score: 0.9911276260588275\n",
      "User 301, CV score: 0.997195277459717\n",
      "User 308, CV score: 0.9956733179359922\n",
      "User 315, CV score: 0.9975499327233246\n",
      "User 318, CV score: 0.995892200386315\n",
      "User 327, CV score: 0.996611448568513\n",
      "User 332, CV score: 0.9967366614327737\n",
      "User 333, CV score: 0.9961421549097977\n",
      "User 339, CV score: 0.9970076540476199\n",
      "User 340, CV score: 0.9966741424082288\n",
      "User 342, CV score: 0.9922326093616919\n",
      "User 344, CV score: 0.9967783109189426\n",
      "User 351, CV score: 0.9923888889850229\n",
      "User 356, CV score: 0.9976540542557486\n",
      "User 361, CV score: 0.9965073178300496\n",
      "User 363, CV score: 0.996413223543192\n",
      "User 411, CV score: 0.9910435502855437\n",
      "User 417, CV score: 0.99678882341563\n",
      "User 425, CV score: 0.9942342810842396\n",
      "User 430, CV score: 0.9961736875598168\n",
      "User 435, CV score: 0.997039012830562\n",
      "User 436, CV score: 0.9952352319712165\n",
      "User 440, CV score: 0.9970285473121644\n",
      "User 444, CV score: 0.9977061789404011\n",
      "User 475, CV score: 0.9893028913846124\n",
      "User 476, CV score: 0.996861831210694\n",
      "User 486, CV score: 0.995360345564808\n",
      "User 515, CV score: 0.9941821287814695\n",
      "User 533, CV score: 0.9937026137018451\n",
      "User 561, CV score: 0.9845586025477576\n",
      "User 563, CV score: 0.9968408628756952\n",
      "User 564, CV score: 0.9955896988476182\n",
      "User 568, CV score: 0.9918990590019566\n",
      "User 569, CV score: 0.9893345567115555\n",
      "User 570, CV score: 0.9983214649371229\n",
      "User 573, CV score: 0.990824719179507\n",
      "User 575, CV score: 0.9900222940737154\n",
      "User 576, CV score: 0.9942761237976577\n",
      "User 580, CV score: 0.9866129311843687\n",
      "User 583, CV score: 0.9807531455998683\n",
      "User 584, CV score: 0.9812431862741686\n",
      "User 600, CV score: 0.9914925492475873\n",
      "User 603, CV score: 0.9956730070259949\n",
      "User 605, CV score: 0.9973829856223545\n",
      "User 640, CV score: 0.9972371438993033\n",
      "User 647, CV score: 0.9975605062443841\n",
      "User 653, CV score: 0.9973204573917703\n",
      "User 664, CV score: 0.9953289732098304\n",
      "User 665, CV score: 0.9970702718687875\n",
      "User 677, CV score: 0.9966324357896372\n",
      "User 692, CV score: 0.9970076918198706\n",
      "User 697, CV score: 0.9958709458155809\n",
      "User 705, CV score: 0.9964969138100711\n",
      "User 722, CV score: 0.9946618216201203\n",
      "User 740, CV score: 0.9966327607457166\n",
      "User 741, CV score: 0.9968514223506725\n",
      "User 756, CV score: 0.9956209767719691\n",
      "User 780, CV score: 0.9963612310614165\n",
      "User 784, CV score: 0.9966635495269971\n",
      "User 785, CV score: 0.9971223733013185\n",
      "User 797, CV score: 0.9957565418378755\n",
      "User 812, CV score: 0.9947557081595999\n",
      "User 844, CV score: 0.9968827288412349\n",
      "User 859, CV score: 0.9981126329844882\n",
      "User 868, CV score: 0.9966636953019097\n",
      "User 875, CV score: 0.9955061034854121\n",
      "User 932, CV score: 0.9903450219748601\n",
      "User 996, CV score: 0.9930980983453813\n",
      "User 1014, CV score: 0.9970493839183331\n",
      "User 1040, CV score: 0.99694524786578\n",
      "User 1054, CV score: 0.9965282944229941\n",
      "User 1248, CV score: 0.9977376549320444\n",
      "User 1267, CV score: 0.9973726523068341\n",
      "User 1299, CV score: 0.9970493132138748\n",
      "User 1371, CV score: 0.993369102062454\n",
      "User 1797, CV score: 0.9946828093152913\n",
      "User 1798, CV score: 0.9963614330206582\n",
      "User 1993, CV score: 0.9967781370518655\n",
      "User 2118, CV score: 0.9976958872890807\n",
      "User 2174, CV score: 0.9955378235745438\n",
      "User 2191, CV score: 0.9952247339946583\n",
      "User 2250, CV score: 0.9973414586589766\n",
      "User 2355, CV score: 0.9956731624809936\n",
      "User 2408, CV score: 0.9934106808441646\n",
      "User 2493, CV score: 0.9965698794668884\n",
      "User 2625, CV score: 0.9959443909353826\n",
      "User 2902, CV score: 0.9971325937741341\n"
     ]
    }
   ],
   "source": [
    "cv_scores_by_user = {}\n",
    "for user_id in logit_cv_150users.scores_:\n",
    "    print('User {}, CV score: {}'.format(user_id, (logit_cv_150users.scores_.get(user_id)).mean()))"
   ]
  },
  {
   "cell_type": "markdown",
   "metadata": {},
   "source": [
    "**Результаты кажутся впечатляющими, но возможно, мы забываем про дисбаланс классов, и высокую долю правильных ответов можно получить константным прогнозом. Посчитайте для каждого пользователя разницу между долей правильных ответов на кросс-валидации (только что посчитанную с помощью `LogisticRegressionCV`) и долей меток в *y_train_150*, отличных от ID \n",
    " этого пользователя (именно такую долю правильных ответов можно получить, если классификатор всегда \"говорит\", что это не пользователь с номером $i$ в задаче классификации $i$-vs-All).**"
   ]
  },
  {
   "cell_type": "code",
   "execution_count": 43,
   "metadata": {},
   "outputs": [],
   "source": [
    "class_distr = np.bincount(y_train_150.astype('int'))\n",
    "user_id, counts = np.unique(y_train_150, return_counts=True)\n",
    "diff = []\n",
    "for idx, count in zip(user_id, counts):\n",
    "    diff.append((logit_cv_150users.scores_.get(idx)).mean() -  (1-count/len(y_train_150)))"
   ]
  },
  {
   "cell_type": "code",
   "execution_count": 44,
   "metadata": {},
   "outputs": [
    {
     "data": {
      "text/plain": [
       "121"
      ]
     },
     "execution_count": 44,
     "metadata": {},
     "output_type": "execute_result"
    }
   ],
   "source": [
    "num_better_than_default = (np.array(diff) > 0).sum()\n",
    "num_better_than_default"
   ]
  },
  {
   "cell_type": "markdown",
   "metadata": {},
   "source": [
    "**<font color='red'>Вопрос 7. </font> Посчитайте долю пользователей, для которых логистическая регрессия на кросс-валидации дает прогноз лучше константного. Округлите до 3 знаков после запятой.**"
   ]
  },
  {
   "cell_type": "code",
   "execution_count": 60,
   "metadata": {},
   "outputs": [],
   "source": [
    "write_answer_to_file(str(round(num_better_than_default/150, 3)),\n",
    "                     os.path.join(PATH_TO_DATA, 'answer4_7.txt'))"
   ]
  },
  {
   "cell_type": "markdown",
   "metadata": {},
   "source": [
    "**Дальше будем строить кривые обучения для конкретного пользователя, допустим, для 128-го. Составьте новый бинарный вектор на основе *y_150users*, его значения будут 1 или 0 в зависимости от того, равен ли ID-шник пользователя 128.**"
   ]
  },
  {
   "cell_type": "code",
   "execution_count": 65,
   "metadata": {},
   "outputs": [],
   "source": [
    "y_binary_128 = [1 if x==128 else 0 for x in y_150users]"
   ]
  },
  {
   "cell_type": "code",
   "execution_count": 66,
   "metadata": {},
   "outputs": [],
   "source": [
    "from sklearn.model_selection import learning_curve\n",
    "\n",
    "def plot_learning_curve(val_train, val_test, train_sizes, \n",
    "                        xlabel='Training Set Size', ylabel='score'):\n",
    "    def plot_with_err(x, data, **kwargs):\n",
    "        mu, std = data.mean(1), data.std(1)\n",
    "        lines = plt.plot(x, mu, '-', **kwargs)\n",
    "        plt.fill_between(x, mu - std, mu + std, edgecolor='none',\n",
    "                         facecolor=lines[0].get_color(), alpha=0.2)\n",
    "    plot_with_err(train_sizes, val_train, label='train')\n",
    "    plot_with_err(train_sizes, val_test, label='valid')\n",
    "    plt.xlabel(xlabel); plt.ylabel(ylabel)\n",
    "    plt.legend(loc='lower right');"
   ]
  },
  {
   "cell_type": "markdown",
   "metadata": {},
   "source": [
    "**Посчитайте доли правильных ответов на кросс-валидации в задаче классификации \"user128-vs-All\" в зависимости от размера выборки. Не помешает посмотреть встроенную документацию для *learning_curve*.**"
   ]
  },
  {
   "cell_type": "code",
   "execution_count": 74,
   "metadata": {},
   "outputs": [
    {
     "name": "stdout",
     "output_type": "stream",
     "text": [
      "CPU times: user 10min 46s, sys: 6.63 s, total: 10min 52s\n",
      "Wall time: 11min 10s\n"
     ]
    }
   ],
   "source": [
    "%%time\n",
    "train_sizes = np.linspace(0.25, 1, 20)\n",
    "estimator = svm_grid_searcher2.best_estimator_\n",
    "n_train, val_train, val_test = learning_curve(estimator, X_sparse_150users, y_150users)"
   ]
  },
  {
   "cell_type": "code",
   "execution_count": 75,
   "metadata": {},
   "outputs": [
    {
     "data": {
      "image/png": "[encoded data removed]",
      "text/plain": [
       "<Figure size 432x288 with 1 Axes>"
      ]
     },
     "metadata": {
      "needs_background": "light"
     },
     "output_type": "display_data"
    }
   ],
   "source": [
    "plot_learning_curve(val_train, val_test, n_train, \n",
    "                    xlabel='train_size', ylabel='accuracy')"
   ]
  },
  {
   "cell_type": "markdown",
   "metadata": {},
   "source": [
    "**Сделайте выводы о том, помогут ли алгоритму новые размеченные данные при той же постановке задачи.**"
   ]
  },
  {
   "cell_type": "markdown",
   "metadata": {},
   "source": [
    "## Пути улучшения\n",
    "- конечно, можно проверить еще кучу алгоритмов, например, Xgboost, но в такой задаче очень маловероятно, что что-то справится лучше линейных методов\n",
    "- интересно проверить качество алгоритма на данных, где сессии выделялись не по количеству посещенных сайтов, а по времени, например, 5, 7, 10 и 15 минут. Отдельно стоит отметить данные нашего [соревнования](https://inclass.kaggle.com/c/catch-me-if-you-can-intruder-detection-through-webpage-session-tracking2) \n",
    "- опять же, если ресурсы позволяют, можно проверить, насколько хорошо можно решить задачу для 3000 пользователей\n",
    "\n",
    "\n",
    "На следующей неделе мы вспомним про линейные модели, обучаемые стохастическим градиентным спуском, и порадуемся тому, насколько быстрее они работают. Также сделаем первые (или не первые) посылки в [соревновании](https://inclass.kaggle.com/c/catch-me-if-you-can-intruder-detection-through-webpage-session-tracking2) Kaggle Inclass."
   ]
  }
 ],
 "metadata": {
  "anaconda-cloud": {},
  "kernelspec": {
   "display_name": "Python 3",
   "language": "python",
   "name": "python3"
  },
  "language_info": {
   "codemirror_mode": {
    "name": "ipython",
    "version": 3
   },
   "file_extension": ".py",
   "mimetype": "text/x-python",
   "name": "python",
   "nbconvert_exporter": "python",
   "pygments_lexer": "ipython3",
   "version": "3.7.4"
  }
 },
 "nbformat": 4,
 "nbformat_minor": 1
}
