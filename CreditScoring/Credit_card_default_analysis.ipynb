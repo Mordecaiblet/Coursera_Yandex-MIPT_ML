{
 "cells": [
  {
   "cell_type": "code",
   "execution_count": 1,
   "metadata": {},
   "outputs": [],
   "source": [
    "import warnings\n",
    "warnings.filterwarnings('ignore')"
   ]
  },
  {
   "cell_type": "code",
   "execution_count": 2,
   "metadata": {},
   "outputs": [],
   "source": [
    "import numpy as np\n",
    "import pandas as pd\n",
    "import matplotlib.pyplot as plt"
   ]
  },
  {
   "cell_type": "code",
   "execution_count": 3,
   "metadata": {},
   "outputs": [],
   "source": [
    "import scipy\n",
    "from statsmodels.stats.weightstats import *"
   ]
  },
  {
   "cell_type": "markdown",
   "metadata": {},
   "source": [
    "Загрузим данные о редитных историях клиентов одного из банков."
   ]
  },
  {
   "cell_type": "code",
   "execution_count": 4,
   "metadata": {},
   "outputs": [
    {
     "data": {
      "text/html": [
       "<div>\n",
       "<style scoped>\n",
       "    .dataframe tbody tr th:only-of-type {\n",
       "        vertical-align: middle;\n",
       "    }\n",
       "\n",
       "    .dataframe tbody tr th {\n",
       "        vertical-align: top;\n",
       "    }\n",
       "\n",
       "    .dataframe thead th {\n",
       "        text-align: right;\n",
       "    }\n",
       "</style>\n",
       "<table border=\"1\" class=\"dataframe\">\n",
       "  <thead>\n",
       "    <tr style=\"text-align: right;\">\n",
       "      <th></th>\n",
       "      <th>ID</th>\n",
       "      <th>LIMIT_BAL</th>\n",
       "      <th>SEX</th>\n",
       "      <th>EDUCATION</th>\n",
       "      <th>MARRIAGE</th>\n",
       "      <th>AGE</th>\n",
       "      <th>PAY_0</th>\n",
       "      <th>PAY_2</th>\n",
       "      <th>PAY_3</th>\n",
       "      <th>PAY_4</th>\n",
       "      <th>...</th>\n",
       "      <th>BILL_AMT4</th>\n",
       "      <th>BILL_AMT5</th>\n",
       "      <th>BILL_AMT6</th>\n",
       "      <th>PAY_AMT1</th>\n",
       "      <th>PAY_AMT2</th>\n",
       "      <th>PAY_AMT3</th>\n",
       "      <th>PAY_AMT4</th>\n",
       "      <th>PAY_AMT5</th>\n",
       "      <th>PAY_AMT6</th>\n",
       "      <th>default</th>\n",
       "    </tr>\n",
       "  </thead>\n",
       "  <tbody>\n",
       "    <tr>\n",
       "      <th>0</th>\n",
       "      <td>1</td>\n",
       "      <td>20000</td>\n",
       "      <td>2</td>\n",
       "      <td>2</td>\n",
       "      <td>1</td>\n",
       "      <td>24</td>\n",
       "      <td>2</td>\n",
       "      <td>2</td>\n",
       "      <td>0</td>\n",
       "      <td>0</td>\n",
       "      <td>...</td>\n",
       "      <td>0</td>\n",
       "      <td>0</td>\n",
       "      <td>0</td>\n",
       "      <td>0</td>\n",
       "      <td>689</td>\n",
       "      <td>0</td>\n",
       "      <td>0</td>\n",
       "      <td>0</td>\n",
       "      <td>0</td>\n",
       "      <td>1</td>\n",
       "    </tr>\n",
       "    <tr>\n",
       "      <th>1</th>\n",
       "      <td>2</td>\n",
       "      <td>120000</td>\n",
       "      <td>2</td>\n",
       "      <td>2</td>\n",
       "      <td>2</td>\n",
       "      <td>26</td>\n",
       "      <td>0</td>\n",
       "      <td>2</td>\n",
       "      <td>0</td>\n",
       "      <td>0</td>\n",
       "      <td>...</td>\n",
       "      <td>3272</td>\n",
       "      <td>3455</td>\n",
       "      <td>3261</td>\n",
       "      <td>0</td>\n",
       "      <td>1000</td>\n",
       "      <td>1000</td>\n",
       "      <td>1000</td>\n",
       "      <td>0</td>\n",
       "      <td>2000</td>\n",
       "      <td>1</td>\n",
       "    </tr>\n",
       "    <tr>\n",
       "      <th>2</th>\n",
       "      <td>3</td>\n",
       "      <td>90000</td>\n",
       "      <td>2</td>\n",
       "      <td>2</td>\n",
       "      <td>2</td>\n",
       "      <td>34</td>\n",
       "      <td>0</td>\n",
       "      <td>0</td>\n",
       "      <td>0</td>\n",
       "      <td>0</td>\n",
       "      <td>...</td>\n",
       "      <td>14331</td>\n",
       "      <td>14948</td>\n",
       "      <td>15549</td>\n",
       "      <td>1518</td>\n",
       "      <td>1500</td>\n",
       "      <td>1000</td>\n",
       "      <td>1000</td>\n",
       "      <td>1000</td>\n",
       "      <td>5000</td>\n",
       "      <td>0</td>\n",
       "    </tr>\n",
       "    <tr>\n",
       "      <th>3</th>\n",
       "      <td>4</td>\n",
       "      <td>50000</td>\n",
       "      <td>2</td>\n",
       "      <td>2</td>\n",
       "      <td>1</td>\n",
       "      <td>37</td>\n",
       "      <td>0</td>\n",
       "      <td>0</td>\n",
       "      <td>0</td>\n",
       "      <td>0</td>\n",
       "      <td>...</td>\n",
       "      <td>28314</td>\n",
       "      <td>28959</td>\n",
       "      <td>29547</td>\n",
       "      <td>2000</td>\n",
       "      <td>2019</td>\n",
       "      <td>1200</td>\n",
       "      <td>1100</td>\n",
       "      <td>1069</td>\n",
       "      <td>1000</td>\n",
       "      <td>0</td>\n",
       "    </tr>\n",
       "    <tr>\n",
       "      <th>4</th>\n",
       "      <td>5</td>\n",
       "      <td>50000</td>\n",
       "      <td>1</td>\n",
       "      <td>2</td>\n",
       "      <td>1</td>\n",
       "      <td>57</td>\n",
       "      <td>0</td>\n",
       "      <td>0</td>\n",
       "      <td>0</td>\n",
       "      <td>0</td>\n",
       "      <td>...</td>\n",
       "      <td>20940</td>\n",
       "      <td>19146</td>\n",
       "      <td>19131</td>\n",
       "      <td>2000</td>\n",
       "      <td>36681</td>\n",
       "      <td>10000</td>\n",
       "      <td>9000</td>\n",
       "      <td>689</td>\n",
       "      <td>679</td>\n",
       "      <td>0</td>\n",
       "    </tr>\n",
       "  </tbody>\n",
       "</table>\n",
       "<p>5 rows × 25 columns</p>\n",
       "</div>"
      ],
      "text/plain": [
       "   ID  LIMIT_BAL  SEX  EDUCATION  MARRIAGE  AGE  PAY_0  PAY_2  PAY_3  PAY_4  \\\n",
       "0   1      20000    2          2         1   24      2      2      0      0   \n",
       "1   2     120000    2          2         2   26      0      2      0      0   \n",
       "2   3      90000    2          2         2   34      0      0      0      0   \n",
       "3   4      50000    2          2         1   37      0      0      0      0   \n",
       "4   5      50000    1          2         1   57      0      0      0      0   \n",
       "\n",
       "   ...  BILL_AMT4  BILL_AMT5  BILL_AMT6  PAY_AMT1  PAY_AMT2  PAY_AMT3  \\\n",
       "0  ...          0          0          0         0       689         0   \n",
       "1  ...       3272       3455       3261         0      1000      1000   \n",
       "2  ...      14331      14948      15549      1518      1500      1000   \n",
       "3  ...      28314      28959      29547      2000      2019      1200   \n",
       "4  ...      20940      19146      19131      2000     36681     10000   \n",
       "\n",
       "   PAY_AMT4  PAY_AMT5  PAY_AMT6  default  \n",
       "0         0         0         0        1  \n",
       "1      1000         0      2000        1  \n",
       "2      1000      1000      5000        0  \n",
       "3      1100      1069      1000        0  \n",
       "4      9000       689       679        0  \n",
       "\n",
       "[5 rows x 25 columns]"
      ]
     },
     "execution_count": 4,
     "metadata": {},
     "output_type": "execute_result"
    }
   ],
   "source": [
    "data = pd.read_csv('credit_card_default_analysis.csv') #Выгружаем данные\n",
    "data.head()"
   ]
  },
  {
   "cell_type": "markdown",
   "metadata": {},
   "source": [
    "Поля в предоставляемых данных имеют следующий смысл: \n",
    " \n",
    "- **LIMIT_BAL**:  размер кредитного лимита (в том числе и на семью клиента)\n",
    "- **SEX**: пол клиента (1 = мужской, 2 = женский )\n",
    "- **EDUCATION**: образование (0 = доктор, 1 = магистр; 2 = бакалавр; 3 = выпускник школы; 4 = начальное образование; 5= прочее; 6 = нет данных ).\n",
    "- **MARRIAGE**: (0 = отказываюсь отвечать; 1 = замужем/женат; 2 = холост; 3 = нет данных). \n",
    "- **AGE**: возраст в годах\n",
    "- **PAY_0 - PAY_6** : История прошлых платежей по кредиту. PAY_6 - платеж в апреле, ... Pay_0 - платеж в сентябре. Платеж = (0 = исправный платеж, 1=задержка в один месяц, 2=задержка в 2 месяца ...)\n",
    "- **BILL_AMT1 - BILL_AMT6**:  задолженность,  BILL_AMT6 - на апрель, BILL_AMT1 - на сентябрь \n",
    "- **PAY_AMT1 - PAY_AMT6**: сумма уплаченная в PAY_AMT6 - апреле, ..., PAY_AMT1 - сентябре \n",
    "- **default** - индикатор невозврата денежных средств"
   ]
  },
  {
   "cell_type": "markdown",
   "metadata": {},
   "source": [
    "### Пункт 1."
   ]
  },
  {
   "cell_type": "markdown",
   "metadata": {},
   "source": [
    "Проверим следующие гипотезы\n",
    "\n",
    "1. О равенстве медианных значений кредитного лимита для людей вернувших/невернувших кредит  \n",
    "2. О равенстве распределений для людей вернувших/невернувших кредит "
   ]
  },
  {
   "cell_type": "code",
   "execution_count": 84,
   "metadata": {},
   "outputs": [],
   "source": [
    "#Рассмотрим по отдельности данные о кредитных лимитах в двух группах\n",
    "limit_0 = np.hstack(np.array(data[data['default'] == 0].loc[:, ['LIMIT_BAL']]))\n",
    "limit_1 = np.hstack(np.array(data[data['default'] == 1].loc[:, ['LIMIT_BAL']]))"
   ]
  },
  {
   "cell_type": "markdown",
   "metadata": {},
   "source": [
    "Рассмотрим полученные данные на графиках"
   ]
  },
  {
   "cell_type": "code",
   "execution_count": 6,
   "metadata": {},
   "outputs": [
    {
     "data": {
      "text/plain": [
       "<matplotlib.legend.Legend at 0x10c0fbc50>"
      ]
     },
     "execution_count": 6,
     "metadata": {},
     "output_type": "execute_result"
    },
    {
     "data": {
      "image/png": "[encoded data removed]",
      "text/plain": [
       "<Figure size 864x432 with 2 Axes>"
      ]
     },
     "metadata": {
      "needs_background": "light"
     },
     "output_type": "display_data"
    }
   ],
   "source": [
    "fig, (ax1, ax2) = plt.subplots(1, 2, figsize=(12, 6))\n",
    "fig.suptitle('Plots of distribution of all limit_bals per clients')\n",
    "ax1.set_title('plot for all clients')\n",
    "ax2.set_title('plot for seperate labels')\n",
    "ax1.set_xlabel('Limit value')\n",
    "ax1.set_ylabel('Number of clients')\n",
    "ax2.set_xlabel('Limit value')\n",
    "ax1.hist(data['LIMIT_BAL'])\n",
    "ax2.hist(limit_0, label='default = 0')\n",
    "ax2.hist(limit_1, label='default = 1')\n",
    "ax2.legend()"
   ]
  },
  {
   "cell_type": "code",
   "execution_count": 7,
   "metadata": {},
   "outputs": [
    {
     "data": {
      "text/plain": [
       "Text(0.5, 1.0, 'Distribution of credit limits by default labels')"
      ]
     },
     "execution_count": 7,
     "metadata": {},
     "output_type": "execute_result"
    },
    {
     "data": {
      "image/png": "[encoded data removed]",
      "text/plain": [
       "<Figure size 432x288 with 1 Axes>"
      ]
     },
     "metadata": {
      "needs_background": "light"
     },
     "output_type": "display_data"
    }
   ],
   "source": [
    "plt.scatter(np.zeros(len(limit_0)), limit_0)\n",
    "plt.scatter([1 for i in range(len(limit_1))], limit_1)\n",
    "plt.xlabel('Default label')\n",
    "plt.ylabel('Size of Credit limit')\n",
    "plt.title('Distribution of credit limits by default labels')"
   ]
  },
  {
   "cell_type": "markdown",
   "metadata": {},
   "source": [
    "Теперь займемся проверкой гипотез:\n",
    "\n",
    "Будем проверять медианную гипотезу двуборочным критерием Стюдента для незавсисимых выборок (поскольку, в каждая из выборок состовлена из уникальных клиентов, не связанных друг с другом)\n",
    "\n",
    "Для это проверим нормальность выборок критерием Шапиро-Уилка и использую Q-Q plot.\n",
    "\n"
   ]
  },
  {
   "cell_type": "code",
   "execution_count": 8,
   "metadata": {},
   "outputs": [
    {
     "data": {
      "image/png": "[encoded data removed]",
      "text/plain": [
       "<Figure size 864x432 with 2 Axes>"
      ]
     },
     "metadata": {
      "needs_background": "light"
     },
     "output_type": "display_data"
    }
   ],
   "source": [
    "#Строим Q-Q plot\n",
    "fig, (ax1, ax2) = plt.subplots(1, 2, figsize=(12, 6))\n",
    "res1 = stats.probplot(limit_0, dist=\"norm\", plot=ax1)\n",
    "res2 = stats.probplot(limit_1, dist=\"norm\", plot=ax2)"
   ]
  },
  {
   "cell_type": "markdown",
   "metadata": {},
   "source": [
    "Критерий Шапиро-Уилка:\n",
    "\n",
    " $H_0\\colon$ способности к подавлению импульсивных реакций распредлены нормально\n",
    " \n",
    " $H_1\\colon$ не нормально."
   ]
  },
  {
   "cell_type": "code",
   "execution_count": 9,
   "metadata": {},
   "outputs": [
    {
     "name": "stdout",
     "output_type": "stream",
     "text": [
      "Shapiro-Wilk normality test, W-statistic: 0.919726, p-value: 0.000000\n",
      "Shapiro-Wilk normality test, W-statistic: 0.854983, p-value: 0.000000\n"
     ]
    }
   ],
   "source": [
    "#Проверяем критерий Шапиро-Уилка через встроенную функцию библиотеки scipy.stats\n",
    "print(\"Shapiro-Wilk normality test, W-statistic: %f, p-value: %f\" % stats.shapiro(limit_0))\n",
    "print(\"Shapiro-Wilk normality test, W-statistic: %f, p-value: %f\" % stats.shapiro(limit_1))"
   ]
  },
  {
   "cell_type": "markdown",
   "metadata": {},
   "source": [
    "Как видно, p-value очень малы и мы можем отвегнуть гипотеза о нормальности наших выборок. Q-Q plot это также подтверждает (большая часть точек отдалена от прямой). Критерий Стьюдента применять нельзя.\n",
    "\n",
    "Получается, что нужно применять другой критерий. Например, воспользуемся построением доверительных интервалов методом бутстрепа."
   ]
  },
  {
   "cell_type": "code",
   "execution_count": 12,
   "metadata": {},
   "outputs": [],
   "source": [
    "#Фунцкция для генерации псевдовыборок для бутстрепа\n",
    "def get_bootstrap_samples(data, n_samples):\n",
    "    indices = np.random.randint(0, len(data), (n_samples, len(data)))\n",
    "    samples = data[indices]\n",
    "    return samples"
   ]
  },
  {
   "cell_type": "code",
   "execution_count": 13,
   "metadata": {},
   "outputs": [],
   "source": [
    "#Функция для построения интервала\n",
    "def stat_intervals(stat, alpha):\n",
    "    boundaries = np.percentile(stat, [100 * alpha / 2., 100 * (1 - alpha / 2.)])\n",
    "    return boundaries"
   ]
  },
  {
   "cell_type": "markdown",
   "metadata": {},
   "source": [
    "Медианы кредитного лимита равны в выборках клиентов вернувших и невернувших долг $H_{0}: \\mu_{1} = \\mu_{2}$ \n",
    "\n",
    "Против двусторонней альтернативы $H_{1}: \\mu_{1} ≠ \\mu_{2}$"
   ]
  },
  {
   "cell_type": "code",
   "execution_count": 82,
   "metadata": {},
   "outputs": [
    {
     "name": "stdout",
     "output_type": "stream",
     "text": [
      "Conf. interval for median of credit limits distirbution for default = 0 [150000.000000,150000.000000]\n",
      "Conf. interval for median of credit limits distirbution for default = 1 [84750.000000,90000.000000]\n"
     ]
    }
   ],
   "source": [
    "limit0 = data[data['default'] == 0].loc[:, ['LIMIT_BAL']]\n",
    "limit1 = data[data['default'] == 1].loc[:, ['LIMIT_BAL']]\n",
    "\n",
    "limit0_bs = list(map(np.median, get_bootstrap_samples(limit0.values, 100)))\n",
    "limit1_bs = list(map(np.median, get_bootstrap_samples(limit1.values, 100)))\n",
    "\n",
    "print('Conf. interval for median of credit limits distirbution for default = 0 [%f,%f]' % (stat_intervals(limit0_bs, 0.05)[0], \n",
    "      stat_intervals(limit0_bs, 0.05)[1]))\n",
    "\n",
    "print('Conf. interval for median of credit limits distirbution for default = 1 [%f,%f]' % (stat_intervals(limit1_bs, 0.05)[0], \n",
    "      stat_intervals(limit1_bs, 0.05)[1]))"
   ]
  },
  {
   "cell_type": "markdown",
   "metadata": {},
   "source": [
    "95% доверительные интервалы для значений медиан в группах людей вернувших/невернувших кредит не пересекаются."
   ]
  },
  {
   "cell_type": "markdown",
   "metadata": {},
   "source": [
    "Теперь проверим еще одну гипотезу\n",
    "\n",
    "$H_{0}$: Распределения кредитных лимитов в группах клиентов вернувших/невернувших кредит совпадают.\n",
    "\n",
    "$H_{1}$: Против двусторонней альтернативы о несовпадении распределений"
   ]
  },
  {
   "cell_type": "code",
   "execution_count": 14,
   "metadata": {},
   "outputs": [],
   "source": [
    "#Статистика перестановочного критерия\n",
    "def permutation_t_stat_ind(sample1, sample2):\n",
    "    return np.mean(sample1) - np.mean(sample2)"
   ]
  },
  {
   "cell_type": "code",
   "execution_count": 76,
   "metadata": {},
   "outputs": [],
   "source": [
    "#Получаем рандомные перестановки\n",
    "def get_random_combinations(n1, n2, max_combinations):\n",
    "    index = list(range(n1 + n2))\n",
    "    indices = set([tuple(index)])\n",
    "    for i in range(max_combinations - 1):\n",
    "        np.random.shuffle(index)\n",
    "        indices.add(tuple(index))\n",
    "    return [(index[:n1], index[n1:]) for index in indices]"
   ]
  },
  {
   "cell_type": "code",
   "execution_count": 16,
   "metadata": {},
   "outputs": [],
   "source": [
    "#Построение нулевого распределения\n",
    "def permutation_zero_dist_ind(sample1, sample2, max_combinations = None):\n",
    "    joined_sample = np.hstack((sample1, sample2))\n",
    "    n1 = len(sample1)\n",
    "    n = len(joined_sample)\n",
    "    \n",
    "    if max_combinations:\n",
    "        indices = get_random_combinations(n1, len(sample2), max_combinations)\n",
    "    else:\n",
    "        indices = [(list(index), filter(lambda i: i not in index, range(n))) \\\n",
    "                    for index in itertools.combinations(range(n), n1)]\n",
    "    \n",
    "    distr = [joined_sample[list(i[0])].mean() - joined_sample[list(i[1])].mean() \\\n",
    "             for i in indices]\n",
    "    return distr"
   ]
  },
  {
   "cell_type": "code",
   "execution_count": 17,
   "metadata": {},
   "outputs": [],
   "source": [
    "#Проверкаа гипотезы через перестановочный критерий\n",
    "def permutation_test(sample, mean, max_permutations = None, alternative = 'two-sided'):\n",
    "    if alternative not in ('two-sided', 'less', 'greater'):\n",
    "        raise ValueError(\"alternative not recognized\\n\"\n",
    "                         \"should be 'two-sided', 'less' or 'greater'\")\n",
    "    \n",
    "    t_stat = permutation_t_stat_ind(sample, mean)\n",
    "    \n",
    "    zero_distr = permutation_zero_dist_ind(sample, mean, max_permutations)\n",
    "    \n",
    "    if alternative == 'two-sided':\n",
    "        return sum([1. if abs(x) >= abs(t_stat) else 0. for x in zero_distr]) / len(zero_distr)\n",
    "    \n",
    "    if alternative == 'less':\n",
    "        return sum([1. if x <= t_stat else 0. for x in zero_distr]) / len(zero_distr)\n",
    "\n",
    "    if alternative == 'greater':\n",
    "        return sum([1. if x >= t_stat else 0. for x in zero_distr]) / len(zero_distr)"
   ]
  },
  {
   "cell_type": "code",
   "execution_count": 85,
   "metadata": {},
   "outputs": [
    {
     "data": {
      "image/png": "[encoded data removed]",
      "text/plain": [
       "<Figure size 432x288 with 1 Axes>"
      ]
     },
     "metadata": {
      "needs_background": "light"
     },
     "output_type": "display_data"
    }
   ],
   "source": [
    "plt.hist(permutation_zero_dist_ind(limit_0, limit_1, max_combinations = 1000))\n",
    "plt.show()"
   ]
  },
  {
   "cell_type": "code",
   "execution_count": 86,
   "metadata": {},
   "outputs": [
    {
     "name": "stdout",
     "output_type": "stream",
     "text": [
      "p-value: 0.019000\n"
     ]
    }
   ],
   "source": [
    "print('p-value: %f' % permutation_test(age0, age1, max_permutations=1000))"
   ]
  },
  {
   "cell_type": "markdown",
   "metadata": {},
   "source": [
    "Гипотеза о равенстве распределений отвергается на уровне значимости 0.05. Результат значим с практической точки зрения, поскольку медианы в разных группах сильно отличаются друг от друга."
   ]
  },
  {
   "cell_type": "markdown",
   "metadata": {},
   "source": [
    "### Пункт 2."
   ]
  },
  {
   "cell_type": "markdown",
   "metadata": {},
   "source": [
    "Проверим гипотезу о том, что гендерный состав группы людей вернувших и не вернувших кредит отличается."
   ]
  },
  {
   "cell_type": "code",
   "execution_count": 18,
   "metadata": {},
   "outputs": [],
   "source": [
    "#Извлекаем данные в соответствии с полом\n",
    "data0 = data[data['default'] == 0]\n",
    "data1 = data[data['default'] == 1]\n",
    "men0 = data0[data0['SEX']==1].loc[:, ['SEX']]\n",
    "women0 = data0[data0['SEX']==2].loc[:, ['SEX']]\n",
    "men1 = data1[data1['SEX']==1].loc[:, ['SEX']]\n",
    "women1 = data1[data1['SEX']==2].loc[:, ['SEX']]"
   ]
  },
  {
   "cell_type": "code",
   "execution_count": 19,
   "metadata": {},
   "outputs": [
    {
     "data": {
      "text/plain": [
       "Text(0.5, 0, 'Debt status')"
      ]
     },
     "execution_count": 19,
     "metadata": {},
     "output_type": "execute_result"
    },
    {
     "data": {
      "image/png": "[encoded data removed]",
      "text/plain": [
       "<Figure size 432x288 with 1 Axes>"
      ]
     },
     "metadata": {
      "needs_background": "light"
     },
     "output_type": "display_data"
    }
   ],
   "source": [
    "plt.scatter(0, len(men0), label=\"Men without the debt\")\n",
    "plt.scatter(1, len(men1), label=\"Men with the debt\")\n",
    "plt.scatter(0, len(women0), label=\"Women without the debt\")\n",
    "plt.scatter(1, len(women1), label=\"Women with the debt\")\n",
    "plt.legend()\n",
    "plt.ylabel('Quantity of people')\n",
    "plt.xlabel('Debt status')"
   ]
  },
  {
   "cell_type": "markdown",
   "metadata": {},
   "source": [
    "По графику видно, что женщины чаще невозвращают кредит. Однако женщин в исходных данных больше.\n",
    "\n",
    "Рассмотрим доверительные интервалы для долей, поскольку призанки бинарны и в обоих выборказ достаточное кол-во как нулей, так и едениц"
   ]
  },
  {
   "cell_type": "code",
   "execution_count": 20,
   "metadata": {},
   "outputs": [],
   "source": [
    "#Строим бинарные выборки\n",
    "data_men = np.concatenate((np.array([1 for i in range(len(men0))]), np.zeros(len(men1))), axis=None)\n",
    "data_women = np.concatenate((np.array([1 for i in range(len(women0))]), np.zeros(len(women1))), axis=None)"
   ]
  },
  {
   "cell_type": "code",
   "execution_count": 21,
   "metadata": {},
   "outputs": [
    {
     "name": "stdout",
     "output_type": "stream",
     "text": [
      "Average percent of men without debt 24.16722745625841 %\n",
      "Average percent of women without debt 20.776280918727917 %\n",
      "Difference beetween percents : 3.3909 %\n"
     ]
    }
   ],
   "source": [
    "#Считаем медиану\n",
    "men_med = men1.shape[0]/data_men.shape[0]*100\n",
    "wo_med = women1.shape[0]/data_women.shape[0]*100\n",
    "delta = (men_med-wo_med)\n",
    "print('Average percent of men without debt', men_med, '%')\n",
    "print('Average percent of women without debt', wo_med, '%')\n",
    "print('Difference beetween percents : %.4f' % delta, '%')"
   ]
  },
  {
   "cell_type": "code",
   "execution_count": 22,
   "metadata": {},
   "outputs": [
    {
     "name": "stdout",
     "output_type": "stream",
     "text": [
      "Conf. int. for prop. of men : [0.7506, 0.7660]\n",
      "Conf. int. for prop. of women : [0.7863, 0.7981]\n"
     ]
    }
   ],
   "source": [
    "from statsmodels.stats.proportion import proportion_confint\n",
    "#И доверительный интервал для доли с помощью proportion_confint из библиотеки statsmodels\n",
    "\n",
    "\n",
    "print('Conf. int. for prop. of men : [%.4f, %.4f]' % proportion_confint(men0.shape[0], data_men.shape[0]))\n",
    "print('Conf. int. for prop. of women : [%.4f, %.4f]' % proportion_confint(women0.shape[0], data_women.shape[0]))"
   ]
  },
  {
   "cell_type": "markdown",
   "metadata": {},
   "source": [
    "Как видно, доверительные интервалы не пересекаются. Процент женщин невернувших кредит меньше в среднем на 3.39%, что на практике значительно, так как у банка сотни тысяч, если не миллионы клиентов."
   ]
  },
  {
   "cell_type": "markdown",
   "metadata": {},
   "source": [
    "Проверим эту гипотезу строго, использя z-критерий для доли. Выборка опять же независимая."
   ]
  },
  {
   "cell_type": "markdown",
   "metadata": {},
   "source": [
    "$$ \\hat{p}_1 = \\frac{a}{n_1}$$\n",
    "\n",
    "$$ \\hat{p}_2 = \\frac{b}{n_2}$$\n",
    "\n",
    "\n",
    "$$\\text{Доверительный интервал для }p_1 - p_2\\colon \\;\\; \\hat{p}_1 - \\hat{p}_2 \\pm z_{1-\\frac{\\alpha}{2}}\\sqrt{\\frac{\\hat{p}_1(1 - \\hat{p}_1)}{n_1} + \\frac{\\hat{p}_2(1 - \\hat{p}_2)}{n_2}}$$\n",
    "\n",
    "$$Z-статистика: Z({X_1, X_2}) =  \\frac{\\hat{p}_1 - \\hat{p}_2}{\\sqrt{P(1 - P)(\\frac{1}{n_1} + \\frac{1}{n_2})}}$$\n",
    "$$P = \\frac{\\hat{p}_1{n_1} + \\hat{p}_2{n_2}}{{n_1} + {n_2}} $$"
   ]
  },
  {
   "cell_type": "markdown",
   "metadata": {},
   "source": [
    "Таким образом наша гипотеза\n",
    "\n",
    "Гендерный состав не отличается между двумя группами не отличается $H_0\\colon$ $p_{1} = p_{2}$\n",
    " \n",
    "Против двусторонней альтернативы о различаях между гендерным составом $H_1\\colon$ $p_{1} ≠ p_{2}$"
   ]
  },
  {
   "cell_type": "code",
   "execution_count": 23,
   "metadata": {},
   "outputs": [],
   "source": [
    "#Доверительный интервал для двух долей (несвязанные выборки)\n",
    "def proportions_diff_confint_ind(sample1, sample2, alpha = 0.05):    \n",
    "    z = scipy.stats.norm.ppf(1 - alpha / 2.)\n",
    "    \n",
    "    p1 = float(sum(sample1)) / len(sample1)\n",
    "    p2 = float(sum(sample2)) / len(sample2)\n",
    "    \n",
    "    left_boundary = (p1 - p2) - z * np.sqrt(p1 * (1 - p1)/ len(sample1) + p2 * (1 - p2)/ len(sample2))\n",
    "    right_boundary = (p1 - p2) + z * np.sqrt(p1 * (1 - p1)/ len(sample1) + p2 * (1 - p2)/ len(sample2))\n",
    "    \n",
    "    return (left_boundary, right_boundary)\n",
    "\n",
    "#Статитстика для двух долей\n",
    "def proportions_diff_z_stat_ind(sample1, sample2):\n",
    "    n1 = len(sample1)\n",
    "    n2 = len(sample2)\n",
    "    \n",
    "    p1 = float(sum(sample1)) / n1\n",
    "    p2 = float(sum(sample2)) / n2 \n",
    "    P = float(p1*n1 + p2*n2) / (n1 + n2)\n",
    "    \n",
    "    return (p1 - p2) / np.sqrt(P * (1 - P) * (1. / n1 + 1. / n2))\n",
    "\n",
    "#Проверка гипотезы для долей\n",
    "def proportions_diff_z_test(z_stat, alternative = 'two-sided'):\n",
    "    if alternative not in ('two-sided', 'less', 'greater'):\n",
    "        raise ValueError(\"alternative not recognized\\n\"\n",
    "                         \"should be 'two-sided', 'less' or 'greater'\")\n",
    "    \n",
    "    if alternative == 'two-sided':\n",
    "        return 2 * (1 - scipy.stats.norm.cdf(np.abs(z_stat)))\n",
    "    \n",
    "    if alternative == 'less':\n",
    "        return scipy.stats.norm.cdf(z_stat)\n",
    "\n",
    "    if alternative == 'greater':\n",
    "        return 1 - scipy.stats.norm.cdf(z_stat)"
   ]
  },
  {
   "cell_type": "code",
   "execution_count": 24,
   "metadata": {},
   "outputs": [
    {
     "name": "stdout",
     "output_type": "stream",
     "text": [
      "95% confidence interval for a difference between proportions: [0.024207, 0.043612]\n"
     ]
    }
   ],
   "source": [
    "print(\"95%% confidence interval for a difference between proportions: [%f, %f]\" %\\\n",
    "      proportions_diff_confint_ind(data_women, data_men))"
   ]
  },
  {
   "cell_type": "code",
   "execution_count": 25,
   "metadata": {},
   "outputs": [
    {
     "name": "stdout",
     "output_type": "stream",
     "text": [
      "p-value: 4.472866521609831e-12\n"
     ]
    }
   ],
   "source": [
    "print('p-value:',proportions_diff_z_test(proportions_diff_z_stat_ind(data_men, data_women)))"
   ]
  },
  {
   "cell_type": "markdown",
   "metadata": {},
   "source": [
    "**Вывод:** Как мы видим, гипотезы о равенстве составов смело отвергается с достигаемым уровнем значимости **p_value = 4.47e-12** на уровне значимости 0.05.\n",
    "\n",
    "Доверительный интервал для разности долей не содержит нуль, что тоже подтверждает различие между группами в 3%. Опять же результат практически значим, о чем было сказано раннее."
   ]
  },
  {
   "cell_type": "markdown",
   "metadata": {},
   "source": [
    "### Пункт 3."
   ]
  },
  {
   "cell_type": "markdown",
   "metadata": {},
   "source": [
    "Проверим гипотезу о том, что образование не влияет на то, вернет ли человек долг."
   ]
  },
  {
   "cell_type": "code",
   "execution_count": 26,
   "metadata": {},
   "outputs": [],
   "source": [
    "#Извлекаем данные\n",
    "edu = data.EDUCATION\n",
    "edu0 = data[data['default']==0].EDUCATION\n",
    "edu1 = data[data['default']==1].EDUCATION"
   ]
  },
  {
   "cell_type": "code",
   "execution_count": 27,
   "metadata": {},
   "outputs": [
    {
     "data": {
      "text/plain": [
       "Text(0.5, 0, 'Education')"
      ]
     },
     "execution_count": 27,
     "metadata": {},
     "output_type": "execute_result"
    },
    {
     "data": {
      "image/png": "[encoded data removed]",
      "text/plain": [
       "<Figure size 864x432 with 2 Axes>"
      ]
     },
     "metadata": {
      "needs_background": "light"
     },
     "output_type": "display_data"
    }
   ],
   "source": [
    "fig, (ax1, ax2) = plt.subplots(1, 2, figsize=(12, 6))\n",
    "ax1.hist(edu)\n",
    "ax2.hist(edu0, label='default = 0')\n",
    "ax2.hist(edu1, label='default = 1')\n",
    "ax2.legend()\n",
    "ax1.set_title('Plot for all clients')\n",
    "ax2.set_title('Plot for seperate labels')\n",
    "ax1.set_xlabel('Education')\n",
    "ax1.set_ylabel('Number of clients')\n",
    "ax2.set_xlabel('Education')"
   ]
  },
  {
   "cell_type": "markdown",
   "metadata": {},
   "source": [
    "Cоставим таблицу сопряженности \"образование\" на \"возврат долга\", где значением ячейки была бы  разность между наблюдаемым и ожидаемым количеством человек.\n",
    "\n",
    "Для начала вычислим процент вернувших долг"
   ]
  },
  {
   "cell_type": "code",
   "execution_count": 109,
   "metadata": {},
   "outputs": [
    {
     "name": "stdout",
     "output_type": "stream",
     "text": [
      "expected value = 0.862953\n"
     ]
    },
    {
     "data": {
      "text/plain": [
       "<matplotlib.legend.Legend at 0x1a2938b750>"
      ]
     },
     "execution_count": 109,
     "metadata": {},
     "output_type": "execute_result"
    },
    {
     "data": {
      "image/png": "[encoded data removed]",
      "text/plain": [
       "<Figure size 432x288 with 1 Axes>"
      ]
     },
     "metadata": {
      "needs_background": "light"
     },
     "output_type": "display_data"
    }
   ],
   "source": [
    "#Рассмотрим различие между реальными и ожидаемыми значениями\n",
    "percent = []\n",
    "for i in range(7):\n",
    "    percent.append(sum(np.where(edu0 == i, 1, 0))/sum(np.where(edu == i, 1, 0)))\n",
    "\n",
    "expected_value = np.mean(percent)\n",
    "print('expected value = %f' % expected_value)\n",
    "\n",
    "\n",
    "plt.plot(np.arange(0,7,1), percent, label = 'Observed values')\n",
    "plt.plot(np.arange(0,7,1), [expected_value for i in range(7)], label = 'Expected')\n",
    "plt.xlabel('Education level')\n",
    "plt.ylabel('Persent of clients with no debt')\n",
    "plt.ylim(0.5)\n",
    "plt.legend()"
   ]
  },
  {
   "cell_type": "markdown",
   "metadata": {},
   "source": [
    "Видно, что в среднем по всей выборке ожидаемый уровень возврата состовляет почти 87%. Клиенты с уровнем образования - \"доктор\" вернули все кредиты (хотя, возможно, это из-за того что в выборке почти нет людей с таким уровнем образования). Кроме того большую часть кредитов вернули люди без образования.\n",
    "\n",
    "Построим таблицу сопряженности, где в столбцах будут люди вернувшие долг (с поправкой на ожидаемую величину), а по строкам уровень образовния :"
   ]
  },
  {
   "cell_type": "code",
   "execution_count": 99,
   "metadata": {},
   "outputs": [
    {
     "data": {
      "text/html": [
       "<div>\n",
       "<style scoped>\n",
       "    .dataframe tbody tr th:only-of-type {\n",
       "        vertical-align: middle;\n",
       "    }\n",
       "\n",
       "    .dataframe tbody tr th {\n",
       "        vertical-align: top;\n",
       "    }\n",
       "\n",
       "    .dataframe thead th {\n",
       "        text-align: right;\n",
       "    }\n",
       "</style>\n",
       "<table border=\"1\" class=\"dataframe\">\n",
       "  <thead>\n",
       "    <tr style=\"text-align: right;\">\n",
       "      <th></th>\n",
       "      <th>Observed</th>\n",
       "      <th>Expected</th>\n",
       "    </tr>\n",
       "  </thead>\n",
       "  <tbody>\n",
       "    <tr>\n",
       "      <th>0</th>\n",
       "      <td>14.0</td>\n",
       "      <td>12.081337</td>\n",
       "    </tr>\n",
       "    <tr>\n",
       "      <th>1</th>\n",
       "      <td>8549.0</td>\n",
       "      <td>7377.382274</td>\n",
       "    </tr>\n",
       "    <tr>\n",
       "      <th>2</th>\n",
       "      <td>10700.0</td>\n",
       "      <td>9233.593441</td>\n",
       "    </tr>\n",
       "    <tr>\n",
       "      <th>3</th>\n",
       "      <td>3680.0</td>\n",
       "      <td>3175.665782</td>\n",
       "    </tr>\n",
       "    <tr>\n",
       "      <th>4</th>\n",
       "      <td>116.0</td>\n",
       "      <td>100.102508</td>\n",
       "    </tr>\n",
       "    <tr>\n",
       "      <th>5</th>\n",
       "      <td>262.0</td>\n",
       "      <td>226.093596</td>\n",
       "    </tr>\n",
       "    <tr>\n",
       "      <th>6</th>\n",
       "      <td>43.0</td>\n",
       "      <td>37.106964</td>\n",
       "    </tr>\n",
       "  </tbody>\n",
       "</table>\n",
       "</div>"
      ],
      "text/plain": [
       "   Observed     Expected\n",
       "0      14.0    12.081337\n",
       "1    8549.0  7377.382274\n",
       "2   10700.0  9233.593441\n",
       "3    3680.0  3175.665782\n",
       "4     116.0   100.102508\n",
       "5     262.0   226.093596\n",
       "6      43.0    37.106964"
      ]
     },
     "execution_count": 99,
     "metadata": {},
     "output_type": "execute_result"
    }
   ],
   "source": [
    "#Получаем таблиц сопряженности\n",
    "table = np.eye(7,2)\n",
    "for i in range(7):\n",
    "    table[i][0] = sum(np.where(edu0 == i, 1, 0))\n",
    "    table[i][1] = expected_value*sum(np.where(edu0 == i, 1, 0))\n",
    "                                                                           \n",
    "table_df = pd.DataFrame(table, index=np.arange(7), columns=['Observed', 'Expected'])\n",
    "table_df"
   ]
  },
  {
   "cell_type": "markdown",
   "metadata": {},
   "source": [
    "Итого - проверяемая гипотеза такова:\n",
    "\n",
    "$H_{0}$: образование не влияет на вероятность выплаты долга (т.е. образование имеет нормальное распределение и влияние случайно)\n",
    "\n",
    "$H_{1}$: против двусторонней альтернативы - образование влияет\n",
    "\n",
    "Будем пользоваться критерием хи-квадрат, но для начала проверим его применимость\n"
   ]
  },
  {
   "cell_type": "code",
   "execution_count": 100,
   "metadata": {},
   "outputs": [],
   "source": [
    "#Функция проверки критерия хи-квадрат\n",
    "def chi2_check(DataFrame, table):\n",
    "    error_number = 0\n",
    "    sum_obs = DataFrame.sum(axis=0)[0]\n",
    "    sum_exp = DataFrame.sum(axis=0)[1]\n",
    "    all_sum = np.sum(table)\n",
    "    for i in range(len(table)):\n",
    "        if (np.sum(table[i]) + sum_obs)/all_sum < 5:\n",
    "            error_number += 1\n",
    "        if (np.sum(table[i]) + sum_exp)/all_sum < 5:\n",
    "            error_number += 1\n",
    "    return (error_number/DataFrame.size < 0.2 and  all_sum > 40)"
   ]
  },
  {
   "cell_type": "code",
   "execution_count": 102,
   "metadata": {},
   "outputs": [
    {
     "name": "stdout",
     "output_type": "stream",
     "text": [
      "Критерий неприменим\n"
     ]
    }
   ],
   "source": [
    "if chi2_check(table_df, table) == True:\n",
    "    print('Критерий применим')\n",
    "else:\n",
    "    print('Критерий неприменим')"
   ]
  },
  {
   "cell_type": "markdown",
   "metadata": {},
   "source": [
    "Однако, всё равно посмотрим на значение p-value при применении критерия"
   ]
  },
  {
   "cell_type": "code",
   "execution_count": 103,
   "metadata": {},
   "outputs": [
    {
     "name": "stdout",
     "output_type": "stream",
     "text": [
      "p-value: 1.2327831491855004e-106\n"
     ]
    }
   ],
   "source": [
    "#Проверяем гипотезу через хи-квадрат\n",
    "chi2, p = stats.chisquare(table_df.Observed, table_df.Expected)\n",
    "print('p-value:', p)"
   ]
  },
  {
   "cell_type": "markdown",
   "metadata": {},
   "source": [
    "**Вывод:** Как видно, достигаемый уровень значимости ничтожно мал (**p_value = 1.23e-106**) и мы смело можем отвергнуть гипотезу о том что выплата долга не зависит от образования.\n",
    "\n",
    "Из графика выше, как было сказано раннее видно, какие люди реже выплачивают долг. Однако, если посмтореть на данные, видно, что большая доля выплаченых кредитов выпадает на довольно малые группы, так что трудно судить о практической значимости результата относительно этих групп. Кроме того, не выполнялись условия применимости критерия хи-квадрат."
   ]
  },
  {
   "cell_type": "markdown",
   "metadata": {},
   "source": [
    "### Пункт 4."
   ]
  },
  {
   "cell_type": "markdown",
   "metadata": {},
   "source": [
    "Проверим, как связан семейный статус с индикатором дефолта. Есть ли между ними какая-либо связь.\n",
    "\n",
    "Для это мы можем воспользоваться коэффициентом V Крамера."
   ]
  },
  {
   "cell_type": "code",
   "execution_count": 32,
   "metadata": {},
   "outputs": [
    {
     "data": {
      "text/plain": [
       "Text(0.5, 0, 'Mariage status')"
      ]
     },
     "execution_count": 32,
     "metadata": {},
     "output_type": "execute_result"
    },
    {
     "data": {
      "image/png": "[encoded data removed]",
      "text/plain": [
       "<Figure size 864x432 with 2 Axes>"
      ]
     },
     "metadata": {
      "needs_background": "light"
     },
     "output_type": "display_data"
    }
   ],
   "source": [
    "#Извлекаем данные\n",
    "marr = data.MARRIAGE\n",
    "marr0 = data[data['default']==0].MARRIAGE\n",
    "marr1 = data[data['default']==1].MARRIAGE\n",
    "\n",
    "fig, (ax1, ax2) = plt.subplots(1, 2, figsize=(12, 6))\n",
    "ax1.hist(marr)\n",
    "ax2.hist(marr0, label='default = 0')\n",
    "ax2.hist(marr1, label='default = 1')\n",
    "ax2.legend()\n",
    "ax1.set_title('Plot for all clients')\n",
    "ax2.set_title('Plot for seperate labels')\n",
    "ax1.set_xlabel('Marriage status')\n",
    "ax1.set_ylabel('Number of clients')\n",
    "ax2.set_xlabel('Mariage status')"
   ]
  },
  {
   "cell_type": "code",
   "execution_count": 104,
   "metadata": {},
   "outputs": [
    {
     "data": {
      "text/html": [
       "<div>\n",
       "<style scoped>\n",
       "    .dataframe tbody tr th:only-of-type {\n",
       "        vertical-align: middle;\n",
       "    }\n",
       "\n",
       "    .dataframe tbody tr th {\n",
       "        vertical-align: top;\n",
       "    }\n",
       "\n",
       "    .dataframe thead th {\n",
       "        text-align: right;\n",
       "    }\n",
       "</style>\n",
       "<table border=\"1\" class=\"dataframe\">\n",
       "  <thead>\n",
       "    <tr style=\"text-align: right;\">\n",
       "      <th></th>\n",
       "      <th>Default = 0</th>\n",
       "      <th>Default = 1</th>\n",
       "    </tr>\n",
       "  </thead>\n",
       "  <tbody>\n",
       "    <tr>\n",
       "      <th>0</th>\n",
       "      <td>49.0</td>\n",
       "      <td>5.0</td>\n",
       "    </tr>\n",
       "    <tr>\n",
       "      <th>1</th>\n",
       "      <td>10453.0</td>\n",
       "      <td>3206.0</td>\n",
       "    </tr>\n",
       "    <tr>\n",
       "      <th>2</th>\n",
       "      <td>12623.0</td>\n",
       "      <td>3341.0</td>\n",
       "    </tr>\n",
       "    <tr>\n",
       "      <th>3</th>\n",
       "      <td>239.0</td>\n",
       "      <td>84.0</td>\n",
       "    </tr>\n",
       "  </tbody>\n",
       "</table>\n",
       "</div>"
      ],
      "text/plain": [
       "   Default = 0  Default = 1\n",
       "0         49.0          5.0\n",
       "1      10453.0       3206.0\n",
       "2      12623.0       3341.0\n",
       "3        239.0         84.0"
      ]
     },
     "execution_count": 104,
     "metadata": {},
     "output_type": "execute_result"
    }
   ],
   "source": [
    "#Получаем таблицу сопряженности\n",
    "table_marr = np.eye(4,2)\n",
    "for i in range(4):\n",
    "    table_marr[i][0] = sum(np.where(marr0 == i, 1, 0))\n",
    "    table_marr[i][1] = sum(np.where(marr1 == i, 1, 0))\n",
    "    \n",
    "marr_df = pd.DataFrame(table_marr, index=np.arange(4), columns=['Default = 0', 'Default = 1'])\n",
    "marr_df"
   ]
  },
  {
   "cell_type": "markdown",
   "metadata": {},
   "source": [
    "Для использования коэффициента V Крамера требуется проверить применимость критерия хи-квадрат"
   ]
  },
  {
   "cell_type": "code",
   "execution_count": 105,
   "metadata": {},
   "outputs": [
    {
     "name": "stdout",
     "output_type": "stream",
     "text": [
      "Критерий неприменим\n"
     ]
    }
   ],
   "source": [
    "#Проверяем критерий хи-квадрат\n",
    "if chi2_check(table_df, table) == True:\n",
    "    print('Критерий применим')\n",
    "else:\n",
    "    print('Критерий неприменим')"
   ]
  },
  {
   "cell_type": "markdown",
   "metadata": {},
   "source": [
    "Однако всё равно посчитаем коэффициент"
   ]
  },
  {
   "cell_type": "code",
   "execution_count": null,
   "metadata": {},
   "outputs": [],
   "source": [
    "#Рассчитываем коэффициент Крамера\n",
    "chi2 = stats.chi2_contingency(table_marr)[0]\n",
    "kramer = np.sqrt(chi2/(3*(len(marr0)+len(marr1))))\n",
    "print('V Kramer coeff %f' % kramer)"
   ]
  },
  {
   "cell_type": "markdown",
   "metadata": {},
   "source": [
    "**Вывод:** Взаимосвязь практически отсутствует так коэффициент V Крамера практически равен нулю (**V_Kramer = 0.02**). Таким образом, взаимосвязь между факторами \"семейное положение\"/\"возврат долга\" отсутствует. Однако мы не можем об этом говорить однозначно. Критерий хи-квадрат неприменим с одной стороны, но и с другой стороны, распределения показывают, что для всех групп процент вернувших кредит примерно одинаков."
   ]
  },
  {
   "cell_type": "markdown",
   "metadata": {},
   "source": [
    "### Пункт 5."
   ]
  },
  {
   "cell_type": "markdown",
   "metadata": {},
   "source": [
    "Теперь проверим гипотезы относительно двух групп людей  вернувших и не вернувших кредит\n",
    "1. о равенстве медианных значений возрастов людей \n",
    "2. о равенстве распределений"
   ]
  },
  {
   "cell_type": "code",
   "execution_count": 34,
   "metadata": {},
   "outputs": [
    {
     "data": {
      "text/plain": [
       "<matplotlib.legend.Legend at 0x1a24bfa7d0>"
      ]
     },
     "execution_count": 34,
     "metadata": {},
     "output_type": "execute_result"
    },
    {
     "data": {
      "image/png": "[encoded data removed]",
      "text/plain": [
       "<Figure size 864x432 with 2 Axes>"
      ]
     },
     "metadata": {
      "needs_background": "light"
     },
     "output_type": "display_data"
    }
   ],
   "source": [
    "#Извлекаем данные\n",
    "age0 = np.hstack(np.array(data[data['default'] == 0].loc[:, ['AGE']]))\n",
    "age1 = np.hstack(np.array(data[data['default'] == 1].loc[:, ['AGE']]))\n",
    "\n",
    "fig, (ax1, ax2) = plt.subplots(1, 2, figsize=(12, 6))\n",
    "fig.suptitle('Plots of distribution of all ages per clients')\n",
    "ax1.set_title('plot for all clients')\n",
    "ax2.set_title('plot for seperate labels')\n",
    "ax1.set_xlabel('Ages')\n",
    "ax1.set_ylabel('Number of clients')\n",
    "ax2.set_xlabel('Ages')\n",
    "ax1.hist(data['AGE'])\n",
    "ax2.hist(age0, label='default = 0')\n",
    "ax2.hist(age1, label='default = 1')\n",
    "ax2.legend()"
   ]
  },
  {
   "cell_type": "markdown",
   "metadata": {},
   "source": [
    "Проверяем следующую гипотезу\n",
    "\n",
    "$H_{0}$: Медианы распределений возраста для выборки клиентов вернувших/невернувших долг совпадают\n",
    "\n",
    "$H_{1}$: Против двусторонней альтернативы о несовпадении"
   ]
  },
  {
   "cell_type": "code",
   "execution_count": 35,
   "metadata": {},
   "outputs": [
    {
     "name": "stdout",
     "output_type": "stream",
     "text": [
      "Median in age distirbution for default = 0 34.000000\n",
      "Median in age distirbution for default = 1 34.000000\n"
     ]
    }
   ],
   "source": [
    "#Считаем медианы\n",
    "print('Median in age distirbution for default = 0 %f' % np.median(age0))\n",
    "print('Median in age distirbution for default = 1 %f' % np.median(age1))"
   ]
  },
  {
   "cell_type": "markdown",
   "metadata": {},
   "source": [
    "Медианы совпали. Построем доверительный интервал, для медиан и их разности на основе бутстрепа."
   ]
  },
  {
   "cell_type": "code",
   "execution_count": 55,
   "metadata": {},
   "outputs": [
    {
     "name": "stdout",
     "output_type": "stream",
     "text": [
      "Conf. interval for median of age distirbution for default = 0 [34.000000,34.000000]\n",
      "Conf. interval for median of age distirbution for default = 1 [34.000000,35.000000]\n"
     ]
    }
   ],
   "source": [
    "#Сравниваем медианы интервально (через бутстреп)\n",
    "age0 = data[data['default'] == 0].loc[:, ['AGE']]\n",
    "age1 = data[data['default'] == 1].loc[:, ['AGE']]\n",
    "\n",
    "age0_bs = list(map(np.median, get_bootstrap_samples(age0.values, 100)))\n",
    "age1_bs = list(map(np.median, get_bootstrap_samples(age1.values, 100)))\n",
    "\n",
    "print('Conf. interval for median of age distirbution for default = 0 [%f,%f]' % (stat_intervals(age0_bs, 0.05)[0], \n",
    "      stat_intervals(age0_bs, 0.05)[1]))\n",
    "print('Conf. interval for median of age distirbution for default = 1 [%f,%f]' % (stat_intervals(age1_bs, 0.05)[0], \n",
    "     stat_intervals(age1_bs, 0.05)[1]))"
   ]
  },
  {
   "cell_type": "code",
   "execution_count": 37,
   "metadata": {},
   "outputs": [
    {
     "name": "stdout",
     "output_type": "stream",
     "text": [
      "Difference in medians = 0.000000\n"
     ]
    }
   ],
   "source": [
    "delta_med = np.median(age0) - np.median(age1)\n",
    "print('Difference in medians = %f' % delta_med)"
   ]
  },
  {
   "cell_type": "code",
   "execution_count": 38,
   "metadata": {},
   "outputs": [
    {
     "name": "stdout",
     "output_type": "stream",
     "text": [
      "95 percent  Conf. int. for median difference [-1.000000, 0.000000]\n"
     ]
    }
   ],
   "source": [
    "#И сравниваем интервально медианы разности\n",
    "delta_med_list = list(map(lambda x,y: x-y, age0_bs, age1_bs))\n",
    "print('95 percent  Conf. int. for median difference [%f, %f]' % (stat_intervals(delta_med_list, 0.05)[0], \n",
    "                                                          stat_intervals(delta_med_list, 0.05)[1]))"
   ]
  },
  {
   "cell_type": "markdown",
   "metadata": {},
   "source": [
    "**Вывод:** Как видно, доверительные интервалы для медиан пересекаются и доверительный интервал для разности медиан содержит нуль, следовательно мы можем принять гипотезу о равенстве медиан возрастов в группах клиентов вернувших/невернувших долг. Этот результат представляет практическую значимость - вероятность возврата кредита не зависит от возраста клиента."
   ]
  },
  {
   "cell_type": "markdown",
   "metadata": {},
   "source": [
    "Теперь проверим еще одну гипотезу\n",
    "\n",
    "$H_{0}$: Распределения возрастов в группах клиентов вернувших/невернувших кредит совпадают.\n",
    "\n",
    "$H_{1}$: Против двусторонней альтернативы о несовпадении распределений"
   ]
  },
  {
   "cell_type": "code",
   "execution_count": 77,
   "metadata": {},
   "outputs": [
    {
     "data": {
      "image/png": "[encoded data removed]",
      "text/plain": [
       "<Figure size 432x288 with 1 Axes>"
      ]
     },
     "metadata": {
      "needs_background": "light"
     },
     "output_type": "display_data"
    }
   ],
   "source": [
    "age0 = np.hstack(np.array(data[data['default'] == 0].loc[:, ['AGE']]))\n",
    "age1 = np.hstack(np.array(data[data['default'] == 1].loc[:, ['AGE']]))\n",
    "\n",
    "plt.hist(permutation_zero_dist_ind(age0, age1, max_combinations = 1000))\n",
    "plt.show()"
   ]
  },
  {
   "cell_type": "code",
   "execution_count": 78,
   "metadata": {},
   "outputs": [
    {
     "name": "stdout",
     "output_type": "stream",
     "text": [
      "p-value: 0.013000\n"
     ]
    }
   ],
   "source": [
    "#Проверяем перестановочным критерием гипотезу (функции выше)\n",
    "print('p-value: %f' % permutation_test(age0, age1, max_permutations=1000))"
   ]
  },
  {
   "cell_type": "markdown",
   "metadata": {},
   "source": [
    "Гипотеза о совпадении распределений отвергается на уровне значимости 0.05. \n",
    "\n",
    "Как мы видим, результат может быть значим практически, потому что на распределении видно, что люди от 20-30 менее склонны отдавать кредит, чем люди из возрастной группы (30-50). Хотя при этом медианы равны, что не показывает разности в распределениях (когда она присутствует)"
   ]
  }
 ],
 "metadata": {
  "kernelspec": {
   "display_name": "Python 3",
   "language": "python",
   "name": "python3"
  },
  "language_info": {
   "codemirror_mode": {
    "name": "ipython",
    "version": 3
   },
   "file_extension": ".py",
   "mimetype": "text/x-python",
   "name": "python",
   "nbconvert_exporter": "python",
   "pygments_lexer": "ipython3",
   "version": "3.7.4"
  }
 },
 "nbformat": 4,
 "nbformat_minor": 2
}
